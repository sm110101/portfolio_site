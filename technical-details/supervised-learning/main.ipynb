{
 "cells": [
  {
   "cell_type": "markdown",
   "metadata": {},
   "source": [
    "---\n",
    "title: \"Supervised Learning\"\n",
    "format:\n",
    "    html: \n",
    "        code-fold: false\n",
    "---"
   ]
  },
  {
   "cell_type": "markdown",
   "metadata": {},
   "source": [
    "<br>\n",
    "<br>\n",
    "\n",
    "# Overview\n",
    "\n",
    "In this section, I leverage several different supervised machine learning techniques to run predictions on three different target variables. As a refresher, supervised machine learning is a suite of algorithms that are trained labeled datasets to classify or predict outcomes for specific target variables[@IBMsupervised]. In this section, I use three subcategories of supervised learning methods, including regression, binary classification, and multi-class classification. For training, I take advantage of `scikit-learn`'s train_test_split object to break up my data into a training and testing set. After running each model, I will look at each model's respective error metrics to gauge their performance in prediction/classification tasks. \n",
    "\n",
    "Before beginning the modeling process, I carry out feature extraction on our text data. For this, I leverage the TF-IDF embedding method that has been used in multiple parts of this study. From there, I build out three custom modeling pipelines for each of our subcategories. The piplines will be modular, allowing us to control which feature are used in the modeling process. Each of the three pipelines will apply a set of specific methods for their given goal, compare each result and output the highest performing model's metrics.\n",
    "\n",
    "At the end of this section I will present my findings, including a summary of each model's performance, and some visualizations to supplement said fidings."
   ]
  },
  {
   "cell_type": "markdown",
   "metadata": {},
   "source": [
    "# Code \n",
    "\n",
    "Provide the source code used for this section of the project here.\n",
    "\n",
    "If you're using a package for code organization, you can import it at this point. However, make sure that the **actual workflow steps**—including data processing, analysis, and other key tasks—are conducted and clearly demonstrated on this page. The goal is to show the technical flow of your project, highlighting how the code is executed to achieve your results.\n",
    "\n",
    "If relevant, link to additional documentation or external references that explain any complex components. This section should give readers a clear view of how the project is implemented from a technical perspective.\n",
    "\n",
    "Remember, this page is a technical narrative, NOT just a notebook with a collection of code cells, include in-line Prose, to describe what is going on."
   ]
  },
  {
   "cell_type": "markdown",
   "metadata": {},
   "source": [
    "## Importing Data and Packages\n",
    "\n",
    "Let's begin our process by importing relevant packages"
   ]
  },
  {
   "cell_type": "code",
   "execution_count": 1,
   "metadata": {},
   "outputs": [],
   "source": [
    "# Data loading and manipulation packages\n",
    "import gzip\n",
    "import pandas as pd\n",
    "import numpy as np\n",
    "\n",
    "# Data preprocessing and feature extraction packages\n",
    "from sklearn.preprocessing import StandardScaler, LabelEncoder\n",
    "from sklearn.model_selection import train_test_split\n",
    "from sklearn.feature_extraction.text import TfidfVectorizer\n",
    "from textblob import TextBlob\n",
    "\n",
    "# Model training packages\n",
    "from sklearn.linear_model import LogisticRegression, LinearRegression, Ridge, Lasso\n",
    "from sklearn.ensemble import RandomForestClassifier, GradientBoostingClassifier\n",
    "from sklearn.svm import SVC\n",
    "\n",
    "# Model evaluation packages\n",
    "from sklearn.metrics import (\n",
    "    accuracy_score,\n",
    "    precision_score,\n",
    "    recall_score,\n",
    "    f1_score,\n",
    "    roc_auc_score,\n",
    "    confusion_matrix,\n",
    "    mean_squared_error,\n",
    "    mean_absolute_error,\n",
    "    r2_score,\n",
    "    roc_curve,\n",
    "    auc\n",
    ")\n",
    "\n",
    "# Visualization packages\n",
    "import matplotlib.pyplot as plt\n",
    "import seaborn as sns\n"
   ]
  },
  {
   "cell_type": "markdown",
   "metadata": {},
   "source": [
    "Now, we can load in our data:"
   ]
  },
  {
   "cell_type": "code",
   "execution_count": 2,
   "metadata": {},
   "outputs": [
    {
     "data": {
      "text/html": [
       "<div>\n",
       "<style scoped>\n",
       "    .dataframe tbody tr th:only-of-type {\n",
       "        vertical-align: middle;\n",
       "    }\n",
       "\n",
       "    .dataframe tbody tr th {\n",
       "        vertical-align: top;\n",
       "    }\n",
       "\n",
       "    .dataframe thead th {\n",
       "        text-align: right;\n",
       "    }\n",
       "</style>\n",
       "<table border=\"1\" class=\"dataframe\">\n",
       "  <thead>\n",
       "    <tr style=\"text-align: right;\">\n",
       "      <th></th>\n",
       "      <th>reviewRating</th>\n",
       "      <th>vote</th>\n",
       "      <th>verified</th>\n",
       "      <th>reviewTime</th>\n",
       "      <th>reviewerID</th>\n",
       "      <th>productID</th>\n",
       "      <th>reviewerName</th>\n",
       "      <th>reviewText</th>\n",
       "      <th>summary</th>\n",
       "      <th>reviewTextClean</th>\n",
       "      <th>summaryClean</th>\n",
       "      <th>binary_target</th>\n",
       "    </tr>\n",
       "  </thead>\n",
       "  <tbody>\n",
       "    <tr>\n",
       "      <th>0</th>\n",
       "      <td>5.0</td>\n",
       "      <td>2</td>\n",
       "      <td>False</td>\n",
       "      <td>2016-06-17</td>\n",
       "      <td>A7HY1CEDK0204</td>\n",
       "      <td>B00I9GYG8O</td>\n",
       "      <td>Jor El</td>\n",
       "      <td>If you're looking for Cinema 4K capabilities o...</td>\n",
       "      <td>Filmmakers will love this camera.</td>\n",
       "      <td>youre looking cinema k capabilities budget cam...</td>\n",
       "      <td>filmmakers love camera</td>\n",
       "      <td>positive</td>\n",
       "    </tr>\n",
       "  </tbody>\n",
       "</table>\n",
       "</div>"
      ],
      "text/plain": [
       "   reviewRating  vote  verified  reviewTime     reviewerID   productID  \\\n",
       "0           5.0     2     False  2016-06-17  A7HY1CEDK0204  B00I9GYG8O   \n",
       "\n",
       "  reviewerName                                         reviewText  \\\n",
       "0       Jor El  If you're looking for Cinema 4K capabilities o...   \n",
       "\n",
       "                             summary  \\\n",
       "0  Filmmakers will love this camera.   \n",
       "\n",
       "                                     reviewTextClean            summaryClean  \\\n",
       "0  youre looking cinema k capabilities budget cam...  filmmakers love camera   \n",
       "\n",
       "  binary_target  \n",
       "0      positive  "
      ]
     },
     "execution_count": 2,
     "metadata": {},
     "output_type": "execute_result"
    }
   ],
   "source": [
    "# Pathway to raw data\n",
    "data_path = \"../../data/processed-data/reviews_short.csv.gz\"\n",
    "\n",
    "# Unzip the CSV file\n",
    "with gzip.open(data_path, 'rb') as f:\n",
    "    # Read the CSV file into a dataframe\n",
    "    reviews = pd.read_csv(f)\n",
    "\n",
    "reviews.head(1)"
   ]
  },
  {
   "cell_type": "code",
   "execution_count": 3,
   "metadata": {},
   "outputs": [],
   "source": [
    "#| echo: false\n",
    "reviews['reviewTextClean'] = reviews['reviewTextClean'].astype(str)\n",
    "reviews['reviewRating'] = reviews['reviewRating'].astype(int)"
   ]
  },
  {
   "cell_type": "markdown",
   "metadata": {},
   "source": [
    "## Data Preprocessing\n",
    "\n",
    "### Handling Zero-Vote rows\n",
    "\n",
    "To start out this process, I shift my focus to the heavily-skewed 'vote' column, where a vast majority of rows have zero votes. In order to reconcile this, while making the `vote` column still usable in our models, I will convert it into a binary-encoded column called `vote_binary` where its values are $1$ if the value for `vote` is non-zero, and $0$ otherwise"
   ]
  },
  {
   "cell_type": "code",
   "execution_count": 4,
   "metadata": {},
   "outputs": [
    {
     "name": "stdout",
     "output_type": "stream",
     "text": [
      "Percent of reviews with 0 votes: 86.02%\n"
     ]
    }
   ],
   "source": [
    "# Checking % of zero-vote rows\n",
    "print(f\"Percent of reviews with 0 votes: {round((len(reviews.loc[reviews['vote'] == 0])/len(reviews)*100), 2)}%\")"
   ]
  },
  {
   "cell_type": "code",
   "execution_count": 5,
   "metadata": {},
   "outputs": [
    {
     "data": {
      "text/html": [
       "<div>\n",
       "<style scoped>\n",
       "    .dataframe tbody tr th:only-of-type {\n",
       "        vertical-align: middle;\n",
       "    }\n",
       "\n",
       "    .dataframe tbody tr th {\n",
       "        vertical-align: top;\n",
       "    }\n",
       "\n",
       "    .dataframe thead th {\n",
       "        text-align: right;\n",
       "    }\n",
       "</style>\n",
       "<table border=\"1\" class=\"dataframe\">\n",
       "  <thead>\n",
       "    <tr style=\"text-align: right;\">\n",
       "      <th></th>\n",
       "      <th>vote</th>\n",
       "      <th>vote_binary</th>\n",
       "    </tr>\n",
       "  </thead>\n",
       "  <tbody>\n",
       "    <tr>\n",
       "      <th>0</th>\n",
       "      <td>2</td>\n",
       "      <td>1</td>\n",
       "    </tr>\n",
       "    <tr>\n",
       "      <th>1</th>\n",
       "      <td>0</td>\n",
       "      <td>0</td>\n",
       "    </tr>\n",
       "    <tr>\n",
       "      <th>2</th>\n",
       "      <td>0</td>\n",
       "      <td>0</td>\n",
       "    </tr>\n",
       "    <tr>\n",
       "      <th>3</th>\n",
       "      <td>0</td>\n",
       "      <td>0</td>\n",
       "    </tr>\n",
       "    <tr>\n",
       "      <th>4</th>\n",
       "      <td>5</td>\n",
       "      <td>1</td>\n",
       "    </tr>\n",
       "  </tbody>\n",
       "</table>\n",
       "</div>"
      ],
      "text/plain": [
       "   vote  vote_binary\n",
       "0     2            1\n",
       "1     0            0\n",
       "2     0            0\n",
       "3     0            0\n",
       "4     5            1"
      ]
     },
     "execution_count": 5,
     "metadata": {},
     "output_type": "execute_result"
    }
   ],
   "source": [
    "# Creating vote_binary column\n",
    "reviews['vote_binary'] = (reviews['vote'] > 0).astype(int)\n",
    "# Printing result\n",
    "reviews[['vote', 'vote_binary']].head()"
   ]
  },
  {
   "cell_type": "markdown",
   "metadata": {},
   "source": [
    "### Encoding `verified` Column\n",
    "\n",
    "Next, let's do the same thing for `verified`, setting \"True\" to 1, and \"False\" to 0."
   ]
  },
  {
   "cell_type": "code",
   "execution_count": 6,
   "metadata": {},
   "outputs": [
    {
     "data": {
      "text/html": [
       "<div>\n",
       "<style scoped>\n",
       "    .dataframe tbody tr th:only-of-type {\n",
       "        vertical-align: middle;\n",
       "    }\n",
       "\n",
       "    .dataframe tbody tr th {\n",
       "        vertical-align: top;\n",
       "    }\n",
       "\n",
       "    .dataframe thead th {\n",
       "        text-align: right;\n",
       "    }\n",
       "</style>\n",
       "<table border=\"1\" class=\"dataframe\">\n",
       "  <thead>\n",
       "    <tr style=\"text-align: right;\">\n",
       "      <th></th>\n",
       "      <th>verified</th>\n",
       "      <th>verified_binary</th>\n",
       "    </tr>\n",
       "  </thead>\n",
       "  <tbody>\n",
       "    <tr>\n",
       "      <th>0</th>\n",
       "      <td>False</td>\n",
       "      <td>0</td>\n",
       "    </tr>\n",
       "    <tr>\n",
       "      <th>1</th>\n",
       "      <td>False</td>\n",
       "      <td>0</td>\n",
       "    </tr>\n",
       "    <tr>\n",
       "      <th>2</th>\n",
       "      <td>True</td>\n",
       "      <td>1</td>\n",
       "    </tr>\n",
       "    <tr>\n",
       "      <th>3</th>\n",
       "      <td>True</td>\n",
       "      <td>1</td>\n",
       "    </tr>\n",
       "    <tr>\n",
       "      <th>4</th>\n",
       "      <td>True</td>\n",
       "      <td>1</td>\n",
       "    </tr>\n",
       "  </tbody>\n",
       "</table>\n",
       "</div>"
      ],
      "text/plain": [
       "   verified  verified_binary\n",
       "0     False                0\n",
       "1     False                0\n",
       "2      True                1\n",
       "3      True                1\n",
       "4      True                1"
      ]
     },
     "execution_count": 6,
     "metadata": {},
     "output_type": "execute_result"
    }
   ],
   "source": [
    "# Creating verified_binary column\n",
    "reviews['verified_binary'] = (reviews['verified'] == True).astype(int)\n",
    "# Printing result\n",
    "reviews[['verified', 'verified_binary']].head()"
   ]
  },
  {
   "cell_type": "markdown",
   "metadata": {},
   "source": [
    "### Encoding `productID`\n",
    "\n",
    "Here, I use sklearn's [`LabelEncoder`](https://scikit-learn.org/dev/modules/generated/sklearn.preprocessing.LabelEncoder.html) object to convert the productID column into a more useful format for modeling. For this process, I will keep both the non-encoded and encoded version of `productID`, as the non-encoded version may be useful for tree-based algorithms like Random Forests and Gradient Boosting, while the encoded version may prove more useful in models that require a numerical input, like Logistic Regression and Support Vector Machines SVM."
   ]
  },
  {
   "cell_type": "code",
   "execution_count": 7,
   "metadata": {},
   "outputs": [
    {
     "data": {
      "text/html": [
       "<div>\n",
       "<style scoped>\n",
       "    .dataframe tbody tr th:only-of-type {\n",
       "        vertical-align: middle;\n",
       "    }\n",
       "\n",
       "    .dataframe tbody tr th {\n",
       "        vertical-align: top;\n",
       "    }\n",
       "\n",
       "    .dataframe thead th {\n",
       "        text-align: right;\n",
       "    }\n",
       "</style>\n",
       "<table border=\"1\" class=\"dataframe\">\n",
       "  <thead>\n",
       "    <tr style=\"text-align: right;\">\n",
       "      <th></th>\n",
       "      <th>productID</th>\n",
       "      <th>productID_encoded</th>\n",
       "    </tr>\n",
       "  </thead>\n",
       "  <tbody>\n",
       "    <tr>\n",
       "      <th>0</th>\n",
       "      <td>B00I9GYG8O</td>\n",
       "      <td>27766</td>\n",
       "    </tr>\n",
       "    <tr>\n",
       "      <th>1</th>\n",
       "      <td>B01DB6BK5I</td>\n",
       "      <td>42622</td>\n",
       "    </tr>\n",
       "    <tr>\n",
       "      <th>2</th>\n",
       "      <td>B00011KM3I</td>\n",
       "      <td>1415</td>\n",
       "    </tr>\n",
       "    <tr>\n",
       "      <th>3</th>\n",
       "      <td>B000EDOSFQ</td>\n",
       "      <td>3153</td>\n",
       "    </tr>\n",
       "    <tr>\n",
       "      <th>4</th>\n",
       "      <td>B01CVOLKKQ</td>\n",
       "      <td>42382</td>\n",
       "    </tr>\n",
       "  </tbody>\n",
       "</table>\n",
       "</div>"
      ],
      "text/plain": [
       "    productID  productID_encoded\n",
       "0  B00I9GYG8O              27766\n",
       "1  B01DB6BK5I              42622\n",
       "2  B00011KM3I               1415\n",
       "3  B000EDOSFQ               3153\n",
       "4  B01CVOLKKQ              42382"
      ]
     },
     "execution_count": 7,
     "metadata": {},
     "output_type": "execute_result"
    }
   ],
   "source": [
    "# Initializing LabelEncoder object\n",
    "encoder = LabelEncoder()\n",
    "# Fitting to our productID column\n",
    "reviews['productID_encoded'] = encoder.fit_transform(reviews['productID'])\n",
    "# Checking result\n",
    "reviews[['productID', 'productID_encoded']].head()"
   ]
  },
  {
   "cell_type": "markdown",
   "metadata": {},
   "source": [
    "### Encoding Binary Target\n",
    "\n",
    "Here, I use binary encoding to create a new `binary_sentiment` column that adjusts values in the `binary_target` column. Specifically, I will change the value \"positive\" to 1, and \"negative\" to 0."
   ]
  },
  {
   "cell_type": "code",
   "execution_count": 9,
   "metadata": {},
   "outputs": [
    {
     "data": {
      "text/html": [
       "<div>\n",
       "<style scoped>\n",
       "    .dataframe tbody tr th:only-of-type {\n",
       "        vertical-align: middle;\n",
       "    }\n",
       "\n",
       "    .dataframe tbody tr th {\n",
       "        vertical-align: top;\n",
       "    }\n",
       "\n",
       "    .dataframe thead th {\n",
       "        text-align: right;\n",
       "    }\n",
       "</style>\n",
       "<table border=\"1\" class=\"dataframe\">\n",
       "  <thead>\n",
       "    <tr style=\"text-align: right;\">\n",
       "      <th></th>\n",
       "      <th>binary_target</th>\n",
       "      <th>binary_sentiment</th>\n",
       "    </tr>\n",
       "  </thead>\n",
       "  <tbody>\n",
       "    <tr>\n",
       "      <th>0</th>\n",
       "      <td>positive</td>\n",
       "      <td>1</td>\n",
       "    </tr>\n",
       "    <tr>\n",
       "      <th>1</th>\n",
       "      <td>negative</td>\n",
       "      <td>0</td>\n",
       "    </tr>\n",
       "    <tr>\n",
       "      <th>2</th>\n",
       "      <td>positive</td>\n",
       "      <td>1</td>\n",
       "    </tr>\n",
       "    <tr>\n",
       "      <th>3</th>\n",
       "      <td>positive</td>\n",
       "      <td>1</td>\n",
       "    </tr>\n",
       "    <tr>\n",
       "      <th>4</th>\n",
       "      <td>negative</td>\n",
       "      <td>0</td>\n",
       "    </tr>\n",
       "  </tbody>\n",
       "</table>\n",
       "</div>"
      ],
      "text/plain": [
       "  binary_target  binary_sentiment\n",
       "0      positive                 1\n",
       "1      negative                 0\n",
       "2      positive                 1\n",
       "3      positive                 1\n",
       "4      negative                 0"
      ]
     },
     "execution_count": 9,
     "metadata": {},
     "output_type": "execute_result"
    }
   ],
   "source": [
    "# Creating verified_binary column\n",
    "reviews['binary_sentiment'] = (reviews['binary_target'] == \"positive\").astype(int)\n",
    "# Printing result\n",
    "reviews[['binary_target', 'binary_sentiment']].head()"
   ]
  },
  {
   "cell_type": "markdown",
   "metadata": {},
   "source": [
    "### Dropping Unnecessary Columns\n",
    "\n",
    "With that out of the way, let's begin to drop unnecessary columns. For this section, we will drop:\n",
    "\n",
    "- `binary_sentiment:` String-encoded sentiment column\n",
    "- `vote:` Non-encoded vote column\n",
    "- `productID:` Non-encoded product ID\n",
    "- `verified:` Non-encoded values for varified column\n",
    "- `reviewTime:` Time of review, since we are not conducting any time series analysis here\n",
    "- `reviewerID:` ID of reviewer\n",
    "- `reviewerName:` Name of reviewer\n",
    "\n",
    "I choose to leave in the uncleaned versions of the review text and summary in case I want to use some all-in-one embedding tools down the line like `BERT`.\n"
   ]
  },
  {
   "cell_type": "code",
   "execution_count": 10,
   "metadata": {},
   "outputs": [
    {
     "data": {
      "text/html": [
       "<div>\n",
       "<style scoped>\n",
       "    .dataframe tbody tr th:only-of-type {\n",
       "        vertical-align: middle;\n",
       "    }\n",
       "\n",
       "    .dataframe tbody tr th {\n",
       "        vertical-align: top;\n",
       "    }\n",
       "\n",
       "    .dataframe thead th {\n",
       "        text-align: right;\n",
       "    }\n",
       "</style>\n",
       "<table border=\"1\" class=\"dataframe\">\n",
       "  <thead>\n",
       "    <tr style=\"text-align: right;\">\n",
       "      <th></th>\n",
       "      <th>reviewRating</th>\n",
       "      <th>reviewText</th>\n",
       "      <th>summary</th>\n",
       "      <th>reviewTextClean</th>\n",
       "      <th>summaryClean</th>\n",
       "      <th>vote_binary</th>\n",
       "      <th>verified_binary</th>\n",
       "      <th>productID_encoded</th>\n",
       "      <th>binary_sentiment</th>\n",
       "    </tr>\n",
       "  </thead>\n",
       "  <tbody>\n",
       "    <tr>\n",
       "      <th>0</th>\n",
       "      <td>5</td>\n",
       "      <td>If you're looking for Cinema 4K capabilities o...</td>\n",
       "      <td>Filmmakers will love this camera.</td>\n",
       "      <td>youre looking cinema k capabilities budget cam...</td>\n",
       "      <td>filmmakers love camera</td>\n",
       "      <td>1</td>\n",
       "      <td>0</td>\n",
       "      <td>27766</td>\n",
       "      <td>1</td>\n",
       "    </tr>\n",
       "  </tbody>\n",
       "</table>\n",
       "</div>"
      ],
      "text/plain": [
       "   reviewRating                                         reviewText  \\\n",
       "0             5  If you're looking for Cinema 4K capabilities o...   \n",
       "\n",
       "                             summary  \\\n",
       "0  Filmmakers will love this camera.   \n",
       "\n",
       "                                     reviewTextClean            summaryClean  \\\n",
       "0  youre looking cinema k capabilities budget cam...  filmmakers love camera   \n",
       "\n",
       "   vote_binary  verified_binary  productID_encoded  binary_sentiment  \n",
       "0            1                0              27766                 1  "
      ]
     },
     "execution_count": 10,
     "metadata": {},
     "output_type": "execute_result"
    }
   ],
   "source": [
    "# Setting columns to drop \n",
    "cols_to_drop = ['binary_target', 'verified', 'vote','productID', 'reviewTime', 'reviewerID', 'reviewerName']\n",
    "# Dropping\n",
    "reviews = reviews.drop(columns=cols_to_drop)\n",
    "# Printing result\n",
    "reviews.head(1)"
   ]
  },
  {
   "cell_type": "markdown",
   "metadata": {},
   "source": [
    "### Renaming and Reordering Columns for Cleanliness"
   ]
  },
  {
   "cell_type": "code",
   "execution_count": 13,
   "metadata": {},
   "outputs": [
    {
     "data": {
      "text/html": [
       "<div>\n",
       "<style scoped>\n",
       "    .dataframe tbody tr th:only-of-type {\n",
       "        vertical-align: middle;\n",
       "    }\n",
       "\n",
       "    .dataframe tbody tr th {\n",
       "        vertical-align: top;\n",
       "    }\n",
       "\n",
       "    .dataframe thead th {\n",
       "        text-align: right;\n",
       "    }\n",
       "</style>\n",
       "<table border=\"1\" class=\"dataframe\">\n",
       "  <thead>\n",
       "    <tr style=\"text-align: right;\">\n",
       "      <th></th>\n",
       "      <th>product_id</th>\n",
       "      <th>rating</th>\n",
       "      <th>vote</th>\n",
       "      <th>verified</th>\n",
       "      <th>sentiment</th>\n",
       "      <th>text_clean</th>\n",
       "      <th>summary_clean</th>\n",
       "      <th>text</th>\n",
       "      <th>summary</th>\n",
       "    </tr>\n",
       "  </thead>\n",
       "  <tbody>\n",
       "    <tr>\n",
       "      <th>0</th>\n",
       "      <td>27766</td>\n",
       "      <td>5</td>\n",
       "      <td>1</td>\n",
       "      <td>0</td>\n",
       "      <td>1</td>\n",
       "      <td>youre looking cinema k capabilities budget cam...</td>\n",
       "      <td>filmmakers love camera</td>\n",
       "      <td>If you're looking for Cinema 4K capabilities o...</td>\n",
       "      <td>Filmmakers will love this camera.</td>\n",
       "    </tr>\n",
       "  </tbody>\n",
       "</table>\n",
       "</div>"
      ],
      "text/plain": [
       "   product_id  rating  vote  verified  sentiment  \\\n",
       "0       27766       5     1         0          1   \n",
       "\n",
       "                                          text_clean           summary_clean  \\\n",
       "0  youre looking cinema k capabilities budget cam...  filmmakers love camera   \n",
       "\n",
       "                                                text  \\\n",
       "0  If you're looking for Cinema 4K capabilities o...   \n",
       "\n",
       "                             summary  \n",
       "0  Filmmakers will love this camera.  "
      ]
     },
     "execution_count": 13,
     "metadata": {},
     "output_type": "execute_result"
    }
   ],
   "source": [
    "# Renaming columns \n",
    "renamed_columns = {\n",
    "    'reviewRating': 'rating',\n",
    "    'reviewText': 'text',\n",
    "    'summary': 'summary',\n",
    "    'reviewTextClean': 'text_clean',\n",
    "    'summaryClean': 'summary_clean',\n",
    "    'binary_sentiment': 'sentiment',\n",
    "    'vote_binary': 'vote',\n",
    "    'verified_binary': 'verified',\n",
    "    'productID_encoded': 'product_id'\n",
    "}\n",
    "\n",
    "reviews = reviews.rename(columns=renamed_columns)\n",
    "\n",
    "# Rordering columns for clarity\n",
    "column_order = [\n",
    "    'product_id',\n",
    "    'rating',\n",
    "    'vote',\n",
    "    'verified',\n",
    "    'sentiment',\n",
    "    'text_clean', \n",
    "    'summary_clean', \n",
    "    'text', \n",
    "    'summary', \n",
    "]\n",
    "\n",
    "reviews = reviews[column_order]\n",
    "\n",
    "# Printing result\n",
    "reviews.head(1)"
   ]
  },
  {
   "cell_type": "markdown",
   "metadata": {},
   "source": [
    "As a reminder for our boolean columns:\n",
    "\n",
    "- `vote`: $(1 \\ \\text{for non-zero vote counts}, \\ 0 \\  \\text{otherwise})$\n",
    "- `verified`: $(1 \\ \\text{if account is verified}, \\ 0 \\  \\text{otherwise})$\n",
    "- `sentiment`: $(1 \\ \\text{if rating} \\ \\geq{4}, \\ 0 \\  \\text{if rating} \\ < 4)$"
   ]
  },
  {
   "cell_type": "markdown",
   "metadata": {},
   "source": [
    "## Feature Extraction\n",
    "\n",
    "### Polarity\n",
    "\n",
    "Before moving on to more advanced feature extraction, I am going to quickly add back the `polarity` column that we worked with in the EDA section to serve as a target variable in our regression models. If you need a refresher on polarity, please head over to the [EDA](../eda/main.ipynb) section where I provide an overview."
   ]
  },
  {
   "cell_type": "code",
   "execution_count": 15,
   "metadata": {},
   "outputs": [
    {
     "data": {
      "text/html": [
       "<div>\n",
       "<style scoped>\n",
       "    .dataframe tbody tr th:only-of-type {\n",
       "        vertical-align: middle;\n",
       "    }\n",
       "\n",
       "    .dataframe tbody tr th {\n",
       "        vertical-align: top;\n",
       "    }\n",
       "\n",
       "    .dataframe thead th {\n",
       "        text-align: right;\n",
       "    }\n",
       "</style>\n",
       "<table border=\"1\" class=\"dataframe\">\n",
       "  <thead>\n",
       "    <tr style=\"text-align: right;\">\n",
       "      <th></th>\n",
       "      <th>text</th>\n",
       "      <th>rating</th>\n",
       "      <th>polarity</th>\n",
       "    </tr>\n",
       "  </thead>\n",
       "  <tbody>\n",
       "    <tr>\n",
       "      <th>0</th>\n",
       "      <td>If you're looking for Cinema 4K capabilities o...</td>\n",
       "      <td>5</td>\n",
       "      <td>0.321675</td>\n",
       "    </tr>\n",
       "  </tbody>\n",
       "</table>\n",
       "</div>"
      ],
      "text/plain": [
       "                                                text  rating  polarity\n",
       "0  If you're looking for Cinema 4K capabilities o...       5  0.321675"
      ]
     },
     "execution_count": 15,
     "metadata": {},
     "output_type": "execute_result"
    }
   ],
   "source": [
    "# TextBlob allows us to feed raw text into it for polarity extraction, so I will do that here\n",
    "reviews['polarity'] = reviews['text'].apply(lambda x: TextBlob(x).sentiment.polarity)\n",
    "# printing result\n",
    "reviews[['text', 'rating', 'polarity']].head(1)"
   ]
  },
  {
   "cell_type": "markdown",
   "metadata": {},
   "source": [
    "### TF-IDF\n",
    "\n",
    "Term frequency-inverse document freqeuncy (TF-IDF) is a process that measures the importance of a word (or pair of words in our case) by comparing its rate of appearance in a document to its rate of appearance in a whole collection of documents. In this approach, the weight of a given word or word-pair depends both on its frequency and rarity. The benefit of TF-IDF over a simple document term matrix is that TF-IDF will punish words/pairs that occur frequently across our corpus, and favor words that have importance in their respective documents, and are found less frequently across the corpus[@TFIDF]. Recall the formulaic representation of TF-IDF that I include on the home page:\n",
    "\n",
    "In equation form[@TFIDF]: \n",
    "$$\n",
    "\\text{TF}(t,d) = \\frac{\\text{Number of times term t appears in document d}}{\\text{Total number of terms in document d}}\n",
    "$$\n",
    "$$\n",
    "\\text{IDF}(t,D) = log_{e}\\frac{\\text{Total number of documents D in corpus}}{\\text{Number of documents containing term t}}\n",
    "$$\n",
    "$$\n",
    "\\text{TF-IDF} = TF(t,d) \\cdot IDF(t,D)\n",
    "$$\n",
    "\n",
    "\n",
    "For its implementation here, I define the function `tfidf_embedding()` that takes in our pandas dataframe, applies TF-IDF to the cleaned review text column, and returns a dataframe that contains all of the tfidf features. The main function process uses the `TfidfVectorizer` from the sklearn library. In my implementation, I feed in the following parameters[@scikitTFIDF]:\n",
    "\n",
    "- `max_features`: Threshold for the number of features to be ranked by their term frequency across the corpus.\n",
    "- `ngram_range`: A tuple that controls the range of n-values for different n-grams to be extracted. In my case, I use (1,2) to include both unigrams and bigrams."
   ]
  },
  {
   "cell_type": "code",
   "execution_count": 16,
   "metadata": {},
   "outputs": [],
   "source": [
    "def tfidf_embedding(df, text_column, max_features=1000, ngram_range=(1,2)):\n",
    "    \"\"\"\n",
    "    This function:\n",
    "    1) Takes in a pandas dataframe and target text column\n",
    "    2) Applies TF-IDF embedding using the set parameters\n",
    "    3) Returns pandas dataframe with tf-idf features \n",
    "    \"\"\"\n",
    "\n",
    "    # Initialize TfidfVectorizer\n",
    "    tfidf = TfidfVectorizer(max_features=max_features, ngram_range=ngram_range, stop_words='english') # Included stopwords param here to help clean up spots that I may have missed in text processing section\n",
    "\n",
    "    # Fit tfidf to our target column\n",
    "    tfidf_features = tfidf.fit_transform(df[text_column])\n",
    "\n",
    "    # Create pandas dataframe for tfidf features\n",
    "    tfidf_df = pd.DataFrame(tfidf_features.toarray(), columns=[f\"tfidf_{i}\" for i in range(tfidf_features.shape[1])])\n",
    "\n",
    "    # Concatenate TF-IDF features df with our original df to maintain other features\n",
    "    df_tfidf = pd.concat([df.reset_index(drop=True), tfidf_df.reset_index(drop=True)], axis = 1)\n",
    "\n",
    "    return df_tfidf"
   ]
  },
  {
   "cell_type": "code",
   "execution_count": 17,
   "metadata": {},
   "outputs": [
    {
     "data": {
      "text/plain": [
       "(100000, 510)"
      ]
     },
     "execution_count": 17,
     "metadata": {},
     "output_type": "execute_result"
    }
   ],
   "source": [
    "## Applying this function to our reviews data set\n",
    "reviews_tfidf = tfidf_embedding(reviews, text_column='text_clean', max_features=500, ngram_range=(1,2))\n",
    "# Printing shape\n",
    "reviews_tfidf.shape"
   ]
  },
  {
   "cell_type": "code",
   "execution_count": 18,
   "metadata": {},
   "outputs": [
    {
     "data": {
      "text/html": [
       "<div>\n",
       "<style scoped>\n",
       "    .dataframe tbody tr th:only-of-type {\n",
       "        vertical-align: middle;\n",
       "    }\n",
       "\n",
       "    .dataframe tbody tr th {\n",
       "        vertical-align: top;\n",
       "    }\n",
       "\n",
       "    .dataframe thead th {\n",
       "        text-align: right;\n",
       "    }\n",
       "</style>\n",
       "<table border=\"1\" class=\"dataframe\">\n",
       "  <thead>\n",
       "    <tr style=\"text-align: right;\">\n",
       "      <th></th>\n",
       "      <th>product_id</th>\n",
       "      <th>rating</th>\n",
       "      <th>vote</th>\n",
       "      <th>verified</th>\n",
       "      <th>sentiment</th>\n",
       "      <th>text_clean</th>\n",
       "      <th>summary_clean</th>\n",
       "      <th>text</th>\n",
       "      <th>summary</th>\n",
       "      <th>polarity</th>\n",
       "      <th>...</th>\n",
       "      <th>tfidf_490</th>\n",
       "      <th>tfidf_491</th>\n",
       "      <th>tfidf_492</th>\n",
       "      <th>tfidf_493</th>\n",
       "      <th>tfidf_494</th>\n",
       "      <th>tfidf_495</th>\n",
       "      <th>tfidf_496</th>\n",
       "      <th>tfidf_497</th>\n",
       "      <th>tfidf_498</th>\n",
       "      <th>tfidf_499</th>\n",
       "    </tr>\n",
       "  </thead>\n",
       "  <tbody>\n",
       "    <tr>\n",
       "      <th>0</th>\n",
       "      <td>27766</td>\n",
       "      <td>5</td>\n",
       "      <td>1</td>\n",
       "      <td>0</td>\n",
       "      <td>1</td>\n",
       "      <td>youre looking cinema k capabilities budget cam...</td>\n",
       "      <td>filmmakers love camera</td>\n",
       "      <td>If you're looking for Cinema 4K capabilities o...</td>\n",
       "      <td>Filmmakers will love this camera.</td>\n",
       "      <td>0.321675</td>\n",
       "      <td>...</td>\n",
       "      <td>0.0</td>\n",
       "      <td>0.0</td>\n",
       "      <td>0.0</td>\n",
       "      <td>0.0</td>\n",
       "      <td>0.0</td>\n",
       "      <td>0.0</td>\n",
       "      <td>0.0</td>\n",
       "      <td>0.0</td>\n",
       "      <td>0.219799</td>\n",
       "      <td>0.0</td>\n",
       "    </tr>\n",
       "  </tbody>\n",
       "</table>\n",
       "<p>1 rows × 510 columns</p>\n",
       "</div>"
      ],
      "text/plain": [
       "   product_id  rating  vote  verified  sentiment  \\\n",
       "0       27766       5     1         0          1   \n",
       "\n",
       "                                          text_clean           summary_clean  \\\n",
       "0  youre looking cinema k capabilities budget cam...  filmmakers love camera   \n",
       "\n",
       "                                                text  \\\n",
       "0  If you're looking for Cinema 4K capabilities o...   \n",
       "\n",
       "                             summary  polarity  ...  tfidf_490  tfidf_491  \\\n",
       "0  Filmmakers will love this camera.  0.321675  ...        0.0        0.0   \n",
       "\n",
       "   tfidf_492  tfidf_493  tfidf_494  tfidf_495  tfidf_496  tfidf_497  \\\n",
       "0        0.0        0.0        0.0        0.0        0.0        0.0   \n",
       "\n",
       "   tfidf_498  tfidf_499  \n",
       "0   0.219799        0.0  \n",
       "\n",
       "[1 rows x 510 columns]"
      ]
     },
     "execution_count": 18,
     "metadata": {},
     "output_type": "execute_result"
    }
   ],
   "source": [
    "reviews_tfidf.head(1)"
   ]
  },
  {
   "cell_type": "markdown",
   "metadata": {},
   "source": [
    "## Model Selection\n",
    "\n",
    "### Pipeline 1: Binary Classification\n",
    "\n",
    "#### Logistic Regression\n",
    "\n",
    "- **Overview**\n",
    "\n",
    "Logistic regression is a type of supervised learning technique that is often used to predict a binary outcome (A or B). The model does this by taking in a set of independent variables for a given observation, and calculating the probability that they belong to a certain target class. Logistic regressions use a [sigmoid function](https://www.linkedin.com/pulse/understanding-sigmoid-function-logistic-regression-piduguralla/) that maps the linear combination of inputs to a final probability in the range [0, 1].[@sigmoid] If the value returned by the sigmoid function is $\\geq 0.5$, then the model assigns the observation to the target class (in our case it assigns the value $1$ to reviews that it believes are positive)\n",
    "\n",
    "**Sigmoid Function:**\n",
    "<br>\n",
    "![](../../xtra/multiclass-portfolio-website/images/sigmoid.png){width=\"500px\"}\n",
    "<br>\n",
    "Source: [Daily Dose of Data Science](https://www.dailydoseofds.com/why-do-we-use-sigmoid-in-logistic-regression/)\n",
    "\n",
    "- **Model Rationale**\n",
    "\n",
    "When selecting which binary classification models I wanted to use for predicting `sentiment`, logistic regression stood out as an obvious baseline. The model's simplicity, and direct probabilistic output makes it a reliable and lightweight option for running predictions using TF-IDF embeddings. \n",
    "\n",
    "#### Random Forest \n",
    "\n",
    "- **Overview**\n",
    "\n",
    "Random forests are a [decision tree](https://en.wikipedia.org/wiki/Decision_tree) based approach to machine learning. However, instead of constructing a \n",
    "\n",
    "- **Model Rationale**\n",
    "\n",
    "\n",
    "\n",
    "\n",
    "\n"
   ]
  },
  {
   "cell_type": "code",
   "execution_count": 21,
   "metadata": {},
   "outputs": [],
   "source": [
    "def binary_classification(df, target='sentiment', selected_features=None, include_tfidf=False, test_size = 0.20, random_state = 5000):\n",
    "\n",
    "    # Step 1: select which features we want to use\n",
    "        # 1(a) raise error if parameters are left blank\n",
    "    if selected_features is None and not include_tfidf:\n",
    "        raise ValueError(\"Please specify either `selected_features` or set `include_tfidf` to True\")\n",
    "    \n",
    "        # 1(b) combine features\n",
    "    features = []\n",
    "    if selected_features:\n",
    "        features += selected_features\n",
    "\n",
    "    if include_tfidf:\n",
    "        features += [col for col in df.columns if col.startswith(\"tfidf_\")]\n",
    "\n",
    "        # 1(c) Extract Features and Target variables\n",
    "    X = df[features]\n",
    "    y = df[target]\n",
    "\n",
    "    # Step 2: Train-Test Split\n",
    "    X_train, X_test, y_train, y_test = train_test_split(X, y, test_size=test_size, random_state=random_state)\n",
    "\n",
    "    # Step 3: Initialize Models\n",
    "    models = {\n",
    "        \"Logistic Regression\": LogisticRegression(max_iter = 1000, random_state=random_state),\n",
    "        \"Random Forest\": RandomForestClassifier(n_estimators=100, random_state=random_state)\n",
    "    }\n",
    "\n",
    "    # Step 4: Train and evaluate the models\n",
    "    results = {}\n",
    "    for model_name, model in models.items():\n",
    "        model.fit(X_train, y_train)\n",
    "        y_pred = model.predict(X_test)\n",
    "        y_pred_prob = model.predict_proba(X_test)[:, 1]\n",
    "\n",
    "        # Calculate error metrics\n",
    "        metrics = {\n",
    "            \"Accuracy\": accuracy_score(y_test, y_pred),\n",
    "            \"Precision\": precision_score(y_test, y_pred),\n",
    "            \"Recall\": recall_score(y_test, y_pred),\n",
    "            \"F1 Score\": f1_score(y_test, y_pred),\n",
    "            \"ROC-AUC\": roc_auc_score(y_test, y_pred)\n",
    "        }\n",
    "\n",
    "        # Add metrics to results dict\n",
    "        results[model_name] = {\n",
    "            \"Model\": model,\n",
    "            \"Metrics\": metrics\n",
    "        }\n",
    "\n",
    "    # Step 5: Return the best model based on F1 score\n",
    "    best_model = max(results, key=lambda k: results[k][\"Metrics\"][\"F1 Score\"])\n",
    "\n",
    "\n",
    "    print(f\"BEST MODEL: {best_model}\")\n",
    "    print(\"===========================\\n\")\n",
    "    print(\"Performance Metrics:\")\n",
    "    for metric, value in results[best_model][\"Metrics\"].items():\n",
    "        print(f\"{metric}: {value:.4f}\")\n",
    "\n",
    "    return results[best_model]"
   ]
  },
  {
   "cell_type": "code",
   "execution_count": 22,
   "metadata": {},
   "outputs": [
    {
     "name": "stdout",
     "output_type": "stream",
     "text": [
      "BEST MODEL: Logistic Regression\n",
      "===========================\n",
      "\n",
      "Performance Metrics:\n",
      "Accuracy: 0.8564\n",
      "Precision: 0.8730\n",
      "Recall: 0.9621\n",
      "F1 Score: 0.9154\n",
      "ROC-AUC: 0.6881\n"
     ]
    }
   ],
   "source": [
    "# Using only TF-IDF values for classification\n",
    "best_model_result = binary_classification(\n",
    "    df=reviews_tfidf, \n",
    "    target=\"sentiment\", \n",
    "    include_tfidf=True  # Include all TF-IDF columns\n",
    ")"
   ]
  },
  {
   "cell_type": "code",
   "execution_count": 26,
   "metadata": {},
   "outputs": [
    {
     "ename": "TypeError",
     "evalue": "'module' object is not callable",
     "output_type": "error",
     "traceback": [
      "\u001b[0;31m---------------------------------------------------------------------------\u001b[0m",
      "\u001b[0;31mTypeError\u001b[0m                                 Traceback (most recent call last)",
      "Cell \u001b[0;32mIn[26], line 2\u001b[0m\n\u001b[1;32m      1\u001b[0m \u001b[38;5;28;01mimport\u001b[39;00m \u001b[38;5;21;01mpprint\u001b[39;00m\n\u001b[0;32m----> 2\u001b[0m pprint(best_model_result)\n",
      "\u001b[0;31mTypeError\u001b[0m: 'module' object is not callable"
     ]
    }
   ],
   "source": []
  },
  {
   "cell_type": "markdown",
   "metadata": {},
   "source": [
    "### Pipeline 2: Multiclass Classification"
   ]
  }
 ],
 "metadata": {
  "kernelspec": {
   "display_name": "base",
   "language": "python",
   "name": "python3"
  },
  "language_info": {
   "codemirror_mode": {
    "name": "ipython",
    "version": 3
   },
   "file_extension": ".py",
   "mimetype": "text/x-python",
   "name": "python",
   "nbconvert_exporter": "python",
   "pygments_lexer": "ipython3",
   "version": "3.11.5"
  }
 },
 "nbformat": 4,
 "nbformat_minor": 2
}
