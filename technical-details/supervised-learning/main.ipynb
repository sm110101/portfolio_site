{
 "cells": [
  {
   "cell_type": "markdown",
   "metadata": {},
   "source": [
    "---\n",
    "title: \"Supervised Learning\"\n",
    "format:\n",
    "    html: \n",
    "        code-fold: false\n",
    "---"
   ]
  },
  {
   "cell_type": "markdown",
   "metadata": {},
   "source": [
    "<br>\n",
    "<br>\n",
    "\n",
    "# Overview\n",
    "\n",
    "In this section, I leverage several different supervised machine learning techniques to run predictions on three different target variables. As a refresher, supervised machine learning is a suite of algorithms that are trained labeled datasets to classify or predict outcomes for specific target variables[@IBMsupervised]. In this section, I use three subcategories of supervised learning methods, including regression, binary classification, and multi-class classification. For training, I take advantage of `scikit-learn`'s train_test_split object to break up my data into a training and testing set. After running each model, I will look at each model's respective error metrics to gauge their performance in prediction/classification tasks. \n",
    "\n",
    "Before beginning the modeling process, I carry out feature extraction on our text data. For this, I leverage the TF-IDF embedding method that has been used in multiple parts of this study. In additiont to TF-IDF, I will also experiment with Latent Dirichlet Allocation (LDA) as another form of embedding. From there, I will plug both results into the modeling process to see which yields more promising results.\n",
    "\n",
    "At the end of this section I will present my findings, including a summary of each model's performance, and some visualizations to supplement said fidings."
   ]
  },
  {
   "cell_type": "markdown",
   "metadata": {},
   "source": [
    "# Code \n",
    "\n",
    "Provide the source code used for this section of the project here.\n",
    "\n",
    "If you're using a package for code organization, you can import it at this point. However, make sure that the **actual workflow steps**—including data processing, analysis, and other key tasks—are conducted and clearly demonstrated on this page. The goal is to show the technical flow of your project, highlighting how the code is executed to achieve your results.\n",
    "\n",
    "If relevant, link to additional documentation or external references that explain any complex components. This section should give readers a clear view of how the project is implemented from a technical perspective.\n",
    "\n",
    "Remember, this page is a technical narrative, NOT just a notebook with a collection of code cells, include in-line Prose, to describe what is going on."
   ]
  },
  {
   "cell_type": "markdown",
   "metadata": {},
   "source": [
    "## Importing Data and Packages\n",
    "\n",
    "Let's begin our process by importing relevant packages"
   ]
  },
  {
   "cell_type": "code",
   "execution_count": 1,
   "metadata": {},
   "outputs": [],
   "source": [
    "# Data loading and manipulation packages\n",
    "import gzip\n",
    "import pandas as pd\n",
    "import numpy as np\n",
    "\n",
    "# Data preprocessing and feature extraction packages\n",
    "from sklearn.preprocessing import StandardScaler, LabelEncoder\n",
    "from sklearn.model_selection import train_test_split\n",
    "from sklearn.feature_extraction.text import TfidfVectorizer\n",
    "from sklearn.decomposition import LatentDirichletAllocation\n",
    "from textblob import TextBlob\n",
    "\n",
    "from vaderSentiment.vaderSentiment import SentimentIntensityAnalyzer\n",
    "from transformers import BertTokenizer, BertModel\n",
    "import torch\n",
    "\n",
    "# Model training packages\n",
    "from sklearn.linear_model import LogisticRegression, LinearRegression, Ridge, Lasso\n",
    "from sklearn.ensemble import RandomForestClassifier, GradientBoostingClassifier\n",
    "from sklearn.svm import SVC\n",
    "\n",
    "# Model evaluation packages\n",
    "from sklearn.metrics import (\n",
    "    accuracy_score,\n",
    "    precision_score,\n",
    "    recall_score,\n",
    "    f1_score,\n",
    "    roc_auc_score,\n",
    "    confusion_matrix,\n",
    "    mean_squared_error,\n",
    "    mean_absolute_error,\n",
    "    r2_score,\n",
    "    roc_curve,\n",
    "    auc\n",
    ")\n",
    "\n",
    "# Visualization packages\n",
    "import matplotlib.pyplot as plt\n",
    "import seaborn as sns\n"
   ]
  },
  {
   "cell_type": "markdown",
   "metadata": {},
   "source": [
    "Now, we can load in our data:"
   ]
  },
  {
   "cell_type": "code",
   "execution_count": 2,
   "metadata": {},
   "outputs": [
    {
     "data": {
      "text/html": [
       "<div>\n",
       "<style scoped>\n",
       "    .dataframe tbody tr th:only-of-type {\n",
       "        vertical-align: middle;\n",
       "    }\n",
       "\n",
       "    .dataframe tbody tr th {\n",
       "        vertical-align: top;\n",
       "    }\n",
       "\n",
       "    .dataframe thead th {\n",
       "        text-align: right;\n",
       "    }\n",
       "</style>\n",
       "<table border=\"1\" class=\"dataframe\">\n",
       "  <thead>\n",
       "    <tr style=\"text-align: right;\">\n",
       "      <th></th>\n",
       "      <th>reviewRating</th>\n",
       "      <th>vote</th>\n",
       "      <th>verified</th>\n",
       "      <th>reviewTime</th>\n",
       "      <th>reviewerID</th>\n",
       "      <th>productID</th>\n",
       "      <th>reviewerName</th>\n",
       "      <th>reviewText</th>\n",
       "      <th>summary</th>\n",
       "      <th>reviewTextClean</th>\n",
       "      <th>summaryClean</th>\n",
       "      <th>binary_target</th>\n",
       "    </tr>\n",
       "  </thead>\n",
       "  <tbody>\n",
       "    <tr>\n",
       "      <th>0</th>\n",
       "      <td>5.0</td>\n",
       "      <td>2</td>\n",
       "      <td>False</td>\n",
       "      <td>2016-06-17</td>\n",
       "      <td>A7HY1CEDK0204</td>\n",
       "      <td>B00I9GYG8O</td>\n",
       "      <td>Jor El</td>\n",
       "      <td>If you're looking for Cinema 4K capabilities o...</td>\n",
       "      <td>Filmmakers will love this camera.</td>\n",
       "      <td>youre looking cinema k capabilities budget cam...</td>\n",
       "      <td>filmmakers love camera</td>\n",
       "      <td>positive</td>\n",
       "    </tr>\n",
       "  </tbody>\n",
       "</table>\n",
       "</div>"
      ],
      "text/plain": [
       "   reviewRating  vote  verified  reviewTime     reviewerID   productID  \\\n",
       "0           5.0     2     False  2016-06-17  A7HY1CEDK0204  B00I9GYG8O   \n",
       "\n",
       "  reviewerName                                         reviewText  \\\n",
       "0       Jor El  If you're looking for Cinema 4K capabilities o...   \n",
       "\n",
       "                             summary  \\\n",
       "0  Filmmakers will love this camera.   \n",
       "\n",
       "                                     reviewTextClean            summaryClean  \\\n",
       "0  youre looking cinema k capabilities budget cam...  filmmakers love camera   \n",
       "\n",
       "  binary_target  \n",
       "0      positive  "
      ]
     },
     "execution_count": 2,
     "metadata": {},
     "output_type": "execute_result"
    }
   ],
   "source": [
    "# Pathway to raw data\n",
    "data_path = \"../../data/processed-data/reviews_short.csv.gz\"\n",
    "\n",
    "# Unzip the CSV file\n",
    "with gzip.open(data_path, 'rb') as f:\n",
    "    # Read the CSV file into a dataframe\n",
    "    reviews = pd.read_csv(f)\n",
    "\n",
    "reviews.head(1)"
   ]
  },
  {
   "cell_type": "code",
   "execution_count": 3,
   "metadata": {},
   "outputs": [],
   "source": [
    "#| echo: false\n",
    "reviews['reviewTextClean'] = reviews['reviewTextClean'].astype(str)"
   ]
  },
  {
   "cell_type": "markdown",
   "metadata": {},
   "source": [
    "## Data Preprocessing\n",
    "\n",
    "### Handling Zero-Vote rows\n",
    "\n",
    "To start out this process, I shift my focus to the heavily-skewed 'vote' column, where a vast majority of rows have zero votes. In order to reconcile this, while making the `vote` column still usable in our models, I will convert it into a binary-encoded column called `vote_binary` where its values are $1$ if the value for `vote` is non-zero, and $0$ otherwise"
   ]
  },
  {
   "cell_type": "code",
   "execution_count": 4,
   "metadata": {},
   "outputs": [
    {
     "name": "stdout",
     "output_type": "stream",
     "text": [
      "Percent of reviews with 0 votes: 86.02%\n"
     ]
    }
   ],
   "source": [
    "# Checking % of zero-vote rows\n",
    "print(f\"Percent of reviews with 0 votes: {round((len(reviews.loc[reviews['vote'] == 0])/len(reviews)*100), 2)}%\")"
   ]
  },
  {
   "cell_type": "code",
   "execution_count": 5,
   "metadata": {},
   "outputs": [
    {
     "data": {
      "text/html": [
       "<div>\n",
       "<style scoped>\n",
       "    .dataframe tbody tr th:only-of-type {\n",
       "        vertical-align: middle;\n",
       "    }\n",
       "\n",
       "    .dataframe tbody tr th {\n",
       "        vertical-align: top;\n",
       "    }\n",
       "\n",
       "    .dataframe thead th {\n",
       "        text-align: right;\n",
       "    }\n",
       "</style>\n",
       "<table border=\"1\" class=\"dataframe\">\n",
       "  <thead>\n",
       "    <tr style=\"text-align: right;\">\n",
       "      <th></th>\n",
       "      <th>vote</th>\n",
       "      <th>vote_binary</th>\n",
       "    </tr>\n",
       "  </thead>\n",
       "  <tbody>\n",
       "    <tr>\n",
       "      <th>0</th>\n",
       "      <td>2</td>\n",
       "      <td>1</td>\n",
       "    </tr>\n",
       "    <tr>\n",
       "      <th>1</th>\n",
       "      <td>0</td>\n",
       "      <td>0</td>\n",
       "    </tr>\n",
       "    <tr>\n",
       "      <th>2</th>\n",
       "      <td>0</td>\n",
       "      <td>0</td>\n",
       "    </tr>\n",
       "    <tr>\n",
       "      <th>3</th>\n",
       "      <td>0</td>\n",
       "      <td>0</td>\n",
       "    </tr>\n",
       "    <tr>\n",
       "      <th>4</th>\n",
       "      <td>5</td>\n",
       "      <td>1</td>\n",
       "    </tr>\n",
       "  </tbody>\n",
       "</table>\n",
       "</div>"
      ],
      "text/plain": [
       "   vote  vote_binary\n",
       "0     2            1\n",
       "1     0            0\n",
       "2     0            0\n",
       "3     0            0\n",
       "4     5            1"
      ]
     },
     "execution_count": 5,
     "metadata": {},
     "output_type": "execute_result"
    }
   ],
   "source": [
    "# Creating vote_binary column\n",
    "reviews['vote_binary'] = (reviews['vote'] > 0).astype(int)\n",
    "# Printing result\n",
    "reviews[['vote', 'vote_binary']].head()"
   ]
  },
  {
   "cell_type": "markdown",
   "metadata": {},
   "source": [
    "### Encoding `verified` Column\n",
    "\n",
    "Next, let's do the same thing for `verified`, setting \"True\" to 1, and \"False\" to 0."
   ]
  },
  {
   "cell_type": "code",
   "execution_count": 6,
   "metadata": {},
   "outputs": [
    {
     "data": {
      "text/html": [
       "<div>\n",
       "<style scoped>\n",
       "    .dataframe tbody tr th:only-of-type {\n",
       "        vertical-align: middle;\n",
       "    }\n",
       "\n",
       "    .dataframe tbody tr th {\n",
       "        vertical-align: top;\n",
       "    }\n",
       "\n",
       "    .dataframe thead th {\n",
       "        text-align: right;\n",
       "    }\n",
       "</style>\n",
       "<table border=\"1\" class=\"dataframe\">\n",
       "  <thead>\n",
       "    <tr style=\"text-align: right;\">\n",
       "      <th></th>\n",
       "      <th>verified</th>\n",
       "      <th>verified_binary</th>\n",
       "    </tr>\n",
       "  </thead>\n",
       "  <tbody>\n",
       "    <tr>\n",
       "      <th>0</th>\n",
       "      <td>False</td>\n",
       "      <td>0</td>\n",
       "    </tr>\n",
       "    <tr>\n",
       "      <th>1</th>\n",
       "      <td>False</td>\n",
       "      <td>0</td>\n",
       "    </tr>\n",
       "    <tr>\n",
       "      <th>2</th>\n",
       "      <td>True</td>\n",
       "      <td>1</td>\n",
       "    </tr>\n",
       "    <tr>\n",
       "      <th>3</th>\n",
       "      <td>True</td>\n",
       "      <td>1</td>\n",
       "    </tr>\n",
       "    <tr>\n",
       "      <th>4</th>\n",
       "      <td>True</td>\n",
       "      <td>1</td>\n",
       "    </tr>\n",
       "  </tbody>\n",
       "</table>\n",
       "</div>"
      ],
      "text/plain": [
       "   verified  verified_binary\n",
       "0     False                0\n",
       "1     False                0\n",
       "2      True                1\n",
       "3      True                1\n",
       "4      True                1"
      ]
     },
     "execution_count": 6,
     "metadata": {},
     "output_type": "execute_result"
    }
   ],
   "source": [
    "# Creating verified_binary column\n",
    "reviews['verified_binary'] = (reviews['verified'] == True).astype(int)\n",
    "# Printing result\n",
    "reviews[['verified', 'verified_binary']].head()"
   ]
  },
  {
   "cell_type": "markdown",
   "metadata": {},
   "source": [
    "### Encoding `productID`\n",
    "\n",
    "Here, I use sklearn's [`LabelEncoder`](https://scikit-learn.org/dev/modules/generated/sklearn.preprocessing.LabelEncoder.html) object to convert the productID column into a more useful format for modeling. For this process, I will keep both the non-encoded and encoded version of `productID`, as the non-encoded version may be useful for tree-based algorithms like Random Forests and Gradient Boosting, while the encoded version may prove more useful in models that require a numerical input, like Logistic Regression and Support Vector Machines SVM."
   ]
  },
  {
   "cell_type": "code",
   "execution_count": 7,
   "metadata": {},
   "outputs": [
    {
     "data": {
      "text/html": [
       "<div>\n",
       "<style scoped>\n",
       "    .dataframe tbody tr th:only-of-type {\n",
       "        vertical-align: middle;\n",
       "    }\n",
       "\n",
       "    .dataframe tbody tr th {\n",
       "        vertical-align: top;\n",
       "    }\n",
       "\n",
       "    .dataframe thead th {\n",
       "        text-align: right;\n",
       "    }\n",
       "</style>\n",
       "<table border=\"1\" class=\"dataframe\">\n",
       "  <thead>\n",
       "    <tr style=\"text-align: right;\">\n",
       "      <th></th>\n",
       "      <th>productID</th>\n",
       "      <th>productID_encoded</th>\n",
       "    </tr>\n",
       "  </thead>\n",
       "  <tbody>\n",
       "    <tr>\n",
       "      <th>0</th>\n",
       "      <td>B00I9GYG8O</td>\n",
       "      <td>27766</td>\n",
       "    </tr>\n",
       "    <tr>\n",
       "      <th>1</th>\n",
       "      <td>B01DB6BK5I</td>\n",
       "      <td>42622</td>\n",
       "    </tr>\n",
       "    <tr>\n",
       "      <th>2</th>\n",
       "      <td>B00011KM3I</td>\n",
       "      <td>1415</td>\n",
       "    </tr>\n",
       "    <tr>\n",
       "      <th>3</th>\n",
       "      <td>B000EDOSFQ</td>\n",
       "      <td>3153</td>\n",
       "    </tr>\n",
       "    <tr>\n",
       "      <th>4</th>\n",
       "      <td>B01CVOLKKQ</td>\n",
       "      <td>42382</td>\n",
       "    </tr>\n",
       "  </tbody>\n",
       "</table>\n",
       "</div>"
      ],
      "text/plain": [
       "    productID  productID_encoded\n",
       "0  B00I9GYG8O              27766\n",
       "1  B01DB6BK5I              42622\n",
       "2  B00011KM3I               1415\n",
       "3  B000EDOSFQ               3153\n",
       "4  B01CVOLKKQ              42382"
      ]
     },
     "execution_count": 7,
     "metadata": {},
     "output_type": "execute_result"
    }
   ],
   "source": [
    "# Initializing LabelEncoder object\n",
    "encoder = LabelEncoder()\n",
    "# Fitting to our productID column\n",
    "reviews['productID_encoded'] = encoder.fit_transform(reviews['productID'])\n",
    "# Checking result\n",
    "reviews[['productID', 'productID_encoded']].head()"
   ]
  },
  {
   "cell_type": "markdown",
   "metadata": {},
   "source": [
    "### Dropping Unnecessary Columns\n",
    "\n",
    "With that out of the way, let's begin to drop unnecessary columns. For this section, we will drop:\n",
    "\n",
    "- `vote:` Non-encoded vote column\n",
    "- `productID:` Non-encoded product ID\n",
    "- `verified:` Non-encoded values for varified column\n",
    "- `reviewTime:` Time of review, since we are not conducting any time series analysis here\n",
    "- `reviewerID:` ID of reviewer\n",
    "- `reviewerName:` Name of reviewer\n",
    "\n",
    "I choose to leave in the uncleaned versions of the review text and summary in case I want to use some all-in-one embedding tools down the line like `BERT`.\n"
   ]
  },
  {
   "cell_type": "code",
   "execution_count": 8,
   "metadata": {},
   "outputs": [
    {
     "data": {
      "text/html": [
       "<div>\n",
       "<style scoped>\n",
       "    .dataframe tbody tr th:only-of-type {\n",
       "        vertical-align: middle;\n",
       "    }\n",
       "\n",
       "    .dataframe tbody tr th {\n",
       "        vertical-align: top;\n",
       "    }\n",
       "\n",
       "    .dataframe thead th {\n",
       "        text-align: right;\n",
       "    }\n",
       "</style>\n",
       "<table border=\"1\" class=\"dataframe\">\n",
       "  <thead>\n",
       "    <tr style=\"text-align: right;\">\n",
       "      <th></th>\n",
       "      <th>reviewRating</th>\n",
       "      <th>reviewText</th>\n",
       "      <th>summary</th>\n",
       "      <th>reviewTextClean</th>\n",
       "      <th>summaryClean</th>\n",
       "      <th>binary_target</th>\n",
       "      <th>vote_binary</th>\n",
       "      <th>verified_binary</th>\n",
       "      <th>productID_encoded</th>\n",
       "    </tr>\n",
       "  </thead>\n",
       "  <tbody>\n",
       "    <tr>\n",
       "      <th>0</th>\n",
       "      <td>5.0</td>\n",
       "      <td>If you're looking for Cinema 4K capabilities o...</td>\n",
       "      <td>Filmmakers will love this camera.</td>\n",
       "      <td>youre looking cinema k capabilities budget cam...</td>\n",
       "      <td>filmmakers love camera</td>\n",
       "      <td>positive</td>\n",
       "      <td>1</td>\n",
       "      <td>0</td>\n",
       "      <td>27766</td>\n",
       "    </tr>\n",
       "  </tbody>\n",
       "</table>\n",
       "</div>"
      ],
      "text/plain": [
       "   reviewRating                                         reviewText  \\\n",
       "0           5.0  If you're looking for Cinema 4K capabilities o...   \n",
       "\n",
       "                             summary  \\\n",
       "0  Filmmakers will love this camera.   \n",
       "\n",
       "                                     reviewTextClean            summaryClean  \\\n",
       "0  youre looking cinema k capabilities budget cam...  filmmakers love camera   \n",
       "\n",
       "  binary_target  vote_binary  verified_binary  productID_encoded  \n",
       "0      positive            1                0              27766  "
      ]
     },
     "execution_count": 8,
     "metadata": {},
     "output_type": "execute_result"
    }
   ],
   "source": [
    "# Setting columns to drop \n",
    "cols_to_drop = ['verified', 'vote','productID', 'reviewTime', 'reviewerID', 'reviewerName']\n",
    "# Dropping\n",
    "reviews = reviews.drop(columns=cols_to_drop)\n",
    "# Printing result\n",
    "reviews.head(1)"
   ]
  },
  {
   "cell_type": "markdown",
   "metadata": {},
   "source": [
    "### Renaming and Reordering Columns for Cleanliness"
   ]
  },
  {
   "cell_type": "code",
   "execution_count": 9,
   "metadata": {},
   "outputs": [
    {
     "data": {
      "text/html": [
       "<div>\n",
       "<style scoped>\n",
       "    .dataframe tbody tr th:only-of-type {\n",
       "        vertical-align: middle;\n",
       "    }\n",
       "\n",
       "    .dataframe tbody tr th {\n",
       "        vertical-align: top;\n",
       "    }\n",
       "\n",
       "    .dataframe thead th {\n",
       "        text-align: right;\n",
       "    }\n",
       "</style>\n",
       "<table border=\"1\" class=\"dataframe\">\n",
       "  <thead>\n",
       "    <tr style=\"text-align: right;\">\n",
       "      <th></th>\n",
       "      <th>product_id</th>\n",
       "      <th>rating</th>\n",
       "      <th>vote</th>\n",
       "      <th>text</th>\n",
       "      <th>summary</th>\n",
       "      <th>text_clean</th>\n",
       "      <th>summary_clean</th>\n",
       "      <th>binary_sentiment</th>\n",
       "      <th>verified</th>\n",
       "    </tr>\n",
       "  </thead>\n",
       "  <tbody>\n",
       "    <tr>\n",
       "      <th>0</th>\n",
       "      <td>27766</td>\n",
       "      <td>5.0</td>\n",
       "      <td>1</td>\n",
       "      <td>If you're looking for Cinema 4K capabilities o...</td>\n",
       "      <td>Filmmakers will love this camera.</td>\n",
       "      <td>youre looking cinema k capabilities budget cam...</td>\n",
       "      <td>filmmakers love camera</td>\n",
       "      <td>positive</td>\n",
       "      <td>0</td>\n",
       "    </tr>\n",
       "    <tr>\n",
       "      <th>1</th>\n",
       "      <td>42622</td>\n",
       "      <td>2.0</td>\n",
       "      <td>0</td>\n",
       "      <td>&lt;div id=\"video-block-R14IHTRCCNUS1P\" class=\"a-...</td>\n",
       "      <td>Web-cams from 2002 packed in a non-discrete bu...</td>\n",
       "      <td>div idvideoblockrihtrccnusp classasection aspa...</td>\n",
       "      <td>webcams packed nondiscrete buggy package</td>\n",
       "      <td>negative</td>\n",
       "      <td>0</td>\n",
       "    </tr>\n",
       "    <tr>\n",
       "      <th>2</th>\n",
       "      <td>1415</td>\n",
       "      <td>5.0</td>\n",
       "      <td>0</td>\n",
       "      <td>Great products and excellent services!</td>\n",
       "      <td>Five Stars</td>\n",
       "      <td>great products excellent services</td>\n",
       "      <td>five stars</td>\n",
       "      <td>positive</td>\n",
       "      <td>1</td>\n",
       "    </tr>\n",
       "    <tr>\n",
       "      <th>3</th>\n",
       "      <td>3153</td>\n",
       "      <td>5.0</td>\n",
       "      <td>0</td>\n",
       "      <td>Priced rivaled any one sided dvd case, easy to...</td>\n",
       "      <td>Satisfied</td>\n",
       "      <td>priced rivaled one sided dvd case easy open dv...</td>\n",
       "      <td>satisfied</td>\n",
       "      <td>positive</td>\n",
       "      <td>1</td>\n",
       "    </tr>\n",
       "    <tr>\n",
       "      <th>4</th>\n",
       "      <td>42382</td>\n",
       "      <td>1.0</td>\n",
       "      <td>1</td>\n",
       "      <td>Only made it a year, then burned up. Had to cy...</td>\n",
       "      <td>Melted</td>\n",
       "      <td>made year burned cycle almost every day last m...</td>\n",
       "      <td>melted</td>\n",
       "      <td>negative</td>\n",
       "      <td>1</td>\n",
       "    </tr>\n",
       "  </tbody>\n",
       "</table>\n",
       "</div>"
      ],
      "text/plain": [
       "   product_id  rating  vote  \\\n",
       "0       27766     5.0     1   \n",
       "1       42622     2.0     0   \n",
       "2        1415     5.0     0   \n",
       "3        3153     5.0     0   \n",
       "4       42382     1.0     1   \n",
       "\n",
       "                                                text  \\\n",
       "0  If you're looking for Cinema 4K capabilities o...   \n",
       "1  <div id=\"video-block-R14IHTRCCNUS1P\" class=\"a-...   \n",
       "2             Great products and excellent services!   \n",
       "3  Priced rivaled any one sided dvd case, easy to...   \n",
       "4  Only made it a year, then burned up. Had to cy...   \n",
       "\n",
       "                                             summary  \\\n",
       "0                  Filmmakers will love this camera.   \n",
       "1  Web-cams from 2002 packed in a non-discrete bu...   \n",
       "2                                         Five Stars   \n",
       "3                                          Satisfied   \n",
       "4                                             Melted   \n",
       "\n",
       "                                          text_clean  \\\n",
       "0  youre looking cinema k capabilities budget cam...   \n",
       "1  div idvideoblockrihtrccnusp classasection aspa...   \n",
       "2                  great products excellent services   \n",
       "3  priced rivaled one sided dvd case easy open dv...   \n",
       "4  made year burned cycle almost every day last m...   \n",
       "\n",
       "                              summary_clean binary_sentiment  verified  \n",
       "0                    filmmakers love camera         positive         0  \n",
       "1  webcams packed nondiscrete buggy package         negative         0  \n",
       "2                                five stars         positive         1  \n",
       "3                                 satisfied         positive         1  \n",
       "4                                    melted         negative         1  "
      ]
     },
     "execution_count": 9,
     "metadata": {},
     "output_type": "execute_result"
    }
   ],
   "source": [
    "# Renaming columns \n",
    "renamed_columns = {\n",
    "    'reviewRating': 'rating',\n",
    "    'reviewText': 'text',\n",
    "    'summary': 'summary',\n",
    "    'reviewTextClean': 'text_clean',\n",
    "    'summaryClean': 'summary_clean',\n",
    "    'binary_target': 'binary_sentiment',\n",
    "    'vote_binary': 'vote',\n",
    "    'verified_binary': 'verified',\n",
    "    'productID_encoded': 'product_id'\n",
    "}\n",
    "\n",
    "reviews = reviews.rename(columns=renamed_columns)\n",
    "\n",
    "# Rordering columns for clarity\n",
    "column_order = [\n",
    "    'product_id',\n",
    "    'rating',\n",
    "    'vote',\n",
    "    'text', \n",
    "    'summary', \n",
    "    'text_clean', \n",
    "    'summary_clean', \n",
    "    'binary_sentiment', \n",
    "    'verified', \n",
    "]\n",
    "\n",
    "reviews = reviews[column_order]\n",
    "\n",
    "# Printing result\n",
    "reviews.head(5)"
   ]
  },
  {
   "cell_type": "markdown",
   "metadata": {},
   "source": [
    "## Feature Extraction\n",
    "\n",
    "### Polarity\n",
    "\n",
    "Before moving on to more advanced feature extraction, I am going to quickly add back the `polarity` column that we worked with in the EDA section to serve as a target variable in our regression models. If you need a refresher on polarity, please head over to the [EDA](../eda/main.ipynb) section where I provide an overview."
   ]
  },
  {
   "cell_type": "code",
   "execution_count": 11,
   "metadata": {},
   "outputs": [
    {
     "data": {
      "text/html": [
       "<div>\n",
       "<style scoped>\n",
       "    .dataframe tbody tr th:only-of-type {\n",
       "        vertical-align: middle;\n",
       "    }\n",
       "\n",
       "    .dataframe tbody tr th {\n",
       "        vertical-align: top;\n",
       "    }\n",
       "\n",
       "    .dataframe thead th {\n",
       "        text-align: right;\n",
       "    }\n",
       "</style>\n",
       "<table border=\"1\" class=\"dataframe\">\n",
       "  <thead>\n",
       "    <tr style=\"text-align: right;\">\n",
       "      <th></th>\n",
       "      <th>text</th>\n",
       "      <th>polarity</th>\n",
       "    </tr>\n",
       "  </thead>\n",
       "  <tbody>\n",
       "    <tr>\n",
       "      <th>0</th>\n",
       "      <td>If you're looking for Cinema 4K capabilities o...</td>\n",
       "      <td>0.321675</td>\n",
       "    </tr>\n",
       "  </tbody>\n",
       "</table>\n",
       "</div>"
      ],
      "text/plain": [
       "                                                text  polarity\n",
       "0  If you're looking for Cinema 4K capabilities o...  0.321675"
      ]
     },
     "execution_count": 11,
     "metadata": {},
     "output_type": "execute_result"
    }
   ],
   "source": [
    "# TextBlob allows us to feed raw text into it for polarity extraction, so I will do that here\n",
    "reviews['polarity'] = reviews['text'].apply(lambda x: TextBlob(x).sentiment.polarity)\n",
    "# printing result\n",
    "reviews[['text', 'polarity']].head(1)"
   ]
  },
  {
   "cell_type": "markdown",
   "metadata": {},
   "source": [
    "\n",
    "\n",
    "### TF-IDF\n",
    "\n",
    "Term frequency-inverse document freqeuncy (TF-IDF) is a process that measures the importance of a word (or pair of words in our case) by comparing its rate of appearance in a document to its rate of appearance in a whole collection of documents. In this approach, the weight of a given word or word-pair depends both on its frequency and rarity. The benefit of TF-IDF over a simple document term matrix is that TF-IDF will punish words/pairs that occur frequently across our corpus, and favor words that have importance to their respective documents but are found less frequently across the corpus[@TFIDF]. Recall the formulaic representation of TF-IDF that I include on the home page:\n",
    "\n",
    "In equation form[@TFIDF]: \n",
    "$$\n",
    "\\text{TF}(t,d) = \\frac{\\text{Number of times term t appears in document d}}{\\text{Total number of terms in document d}}\n",
    "$$\n",
    "$$\n",
    "\\text{IDF}(t,D) = log_{e}\\frac{\\text{Total number of documents D in corpus}}{\\text{Number of documents containing term t}}\n",
    "$$\n",
    "$$\n",
    "\\text{TF-IDF} = TF(t,d) \\cdot IDF(t,D)\n",
    "$$\n",
    "\n",
    "\n",
    "For its implementation here, I define the function `tfidf_embedding()` that takes in our pandas dataframe, applies TF-IDF to the cleaned review text column, and returns a dataframe that contains all of the tfidf features. The main function process uses the `TfidfVectorizer` from the sklearn library. In my implementation, I feed in the following parameters[@scikitTFIDF]:\n",
    "\n",
    "- `max_features`: Threshold for the number of features to be ranked by their term frequency across the corpus.\n",
    "- `ngram_range`: A tuple that controls the range of n-values for different n-grams to be extracted. In my case, I use (1,2) to include both unigrams and bigrams."
   ]
  },
  {
   "cell_type": "code",
   "execution_count": 12,
   "metadata": {},
   "outputs": [],
   "source": [
    "def tfidf_embedding(df, text_column, max_features=1000, ngram_range=(1,2)):\n",
    "    \"\"\"\n",
    "    This function:\n",
    "    1) Takes in a pandas dataframe and target text column\n",
    "    2) Applies TF-IDF embedding using the set parameters\n",
    "    3) Returns pandas dataframe with tf-idf embeddings \n",
    "    \"\"\"\n",
    "\n",
    "    # Initialize TfidfVectorizer\n",
    "    tfidf = TfidfVectorizer(max_features=max_features, ngram_range=ngram_range, stop_words='english') # Included stopwords param here to help clean up spots that I may have missed in text processing section\n",
    "\n",
    "    # Fit tfidf to our target column\n",
    "    tfidf_features = tfidf.fit_transform(df[text_column])\n",
    "\n",
    "    # Create pandas dataframe for tfidf features\n",
    "    tfidf_df = pd.DataFrame(tfidf_features.toarray(), columns=[f\"tfidf_{i}\" for i in range(tfidf_features.shape[1])])\n",
    "\n",
    "    # Concatenate TF-IDF features df with our original df to maintain other features\n",
    "    df_tfidf = pd.concat([df.reset_index(drop=True), tfidf_df.reset_index(drop=True)], axis = 1)\n",
    "\n",
    "    return df_tfidf"
   ]
  },
  {
   "cell_type": "code",
   "execution_count": 13,
   "metadata": {},
   "outputs": [
    {
     "data": {
      "text/plain": [
       "(100000, 509)"
      ]
     },
     "execution_count": 13,
     "metadata": {},
     "output_type": "execute_result"
    }
   ],
   "source": [
    "## Applying this function to our reviews data set\n",
    "reviews_tfidf = tfidf_embedding(reviews, text_column='text_clean', max_features=500, ngram_range=(1,2))\n",
    "# Printing shape\n",
    "reviews_tfidf.shape"
   ]
  },
  {
   "cell_type": "markdown",
   "metadata": {},
   "source": [
    "## Model Selection\n",
    "\n",
    "### Regression \n",
    "\n",
    "### Binary Classification\n",
    "\n",
    "### Multiclass Classification"
   ]
  }
 ],
 "metadata": {
  "kernelspec": {
   "display_name": "base",
   "language": "python",
   "name": "python3"
  },
  "language_info": {
   "codemirror_mode": {
    "name": "ipython",
    "version": 3
   },
   "file_extension": ".py",
   "mimetype": "text/x-python",
   "name": "python",
   "nbconvert_exporter": "python",
   "pygments_lexer": "ipython3",
   "version": "3.11.5"
  }
 },
 "nbformat": 4,
 "nbformat_minor": 2
}
