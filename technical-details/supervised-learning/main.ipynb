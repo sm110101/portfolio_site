{
 "cells": [
  {
   "cell_type": "markdown",
   "metadata": {},
   "source": [
    "---\n",
    "title: \"Supervised Learning\"\n",
    "format:\n",
    "    html: \n",
    "        code-fold: false\n",
    "---"
   ]
  },
  {
   "cell_type": "markdown",
   "metadata": {},
   "source": [
    "<br>\n",
    "<br>\n",
    "\n",
    "# Overview\n",
    "\n",
    "In this section, I leverage several different supervised machine learning techniques to run predictions on three different target variables. As a refresher, supervised machine learning is a suite of algorithms that are trained labeled datasets to classify or predict outcomes for specific target variables[@IBMsupervised]. In this section, I use three subcategories of supervised learning methods, including regression, binary classification, and multi-class classification. For training, I take advantage of `scikit-learn`'s train_test_split object to break up my data into a training and testing set. After running each model, I will look at each model's respective error metrics to gauge their performance in prediction/classification tasks. \n",
    "\n",
    "Before beginning the modeling process, I carry out feature extraction on our text data. For this, I leverage the TF-IDF embedding method that has been used in multiple parts of this study. From there, I build out two custom modeling pipelines for classification and regression models. The piplines will be modular, allowing us to control which feature are used in the modeling process. Each of the pipelines will apply a set of specific methods for their given goal, compare each result and output the highest performing model's metrics.\n",
    "\n",
    "At the end of this section I will present my findings, including a summary of each model's performance, and some visualizations to supplement said fidings."
   ]
  },
  {
   "cell_type": "markdown",
   "metadata": {},
   "source": [
    "# Section 1: Setup\n",
    "\n",
    "**Importing Data and Packages**\n",
    "\n",
    "**Data Preprocessing**\n",
    "\n",
    "**Feature Extraction**\n"
   ]
  },
  {
   "cell_type": "markdown",
   "metadata": {},
   "source": [
    "## Importing Data and Packages\n",
    "\n",
    "Let's begin our process by importing relevant packages"
   ]
  },
  {
   "cell_type": "code",
   "execution_count": 23,
   "metadata": {},
   "outputs": [],
   "source": [
    "# Data loading and manipulation packages\n",
    "import gzip\n",
    "import pandas as pd\n",
    "import numpy as np\n",
    "\n",
    "# Data preprocessing and feature extraction packages\n",
    "from sklearn.preprocessing import StandardScaler, MinMaxScaler, LabelEncoder\n",
    "from sklearn.model_selection import train_test_split\n",
    "from sklearn.feature_extraction.text import TfidfVectorizer\n",
    "from textblob import TextBlob\n",
    "\n",
    "# Model training packages\n",
    "from sklearn.linear_model import LogisticRegression, Ridge\n",
    "from sklearn.ensemble import RandomForestClassifier, RandomForestRegressor\n",
    "from sklearn.naive_bayes import MultinomialNB\n",
    "from sklearn.svm import SVC\n",
    "\n",
    "# Model evaluation packages\n",
    "from sklearn.metrics import (\n",
    "    accuracy_score,\n",
    "    precision_score,\n",
    "    recall_score,\n",
    "    f1_score,\n",
    "    roc_auc_score,\n",
    "    confusion_matrix,\n",
    "    mean_squared_error,\n",
    "    mean_absolute_error,\n",
    "    r2_score,\n",
    "    roc_curve,\n",
    "    auc\n",
    ")\n",
    "\n",
    "# Visualization packages\n",
    "import matplotlib.pyplot as plt\n",
    "import seaborn as sns\n",
    "\n",
    "# Ignoring warnings \n",
    "import warnings \n",
    "warnings.filterwarnings(\"ignore\")"
   ]
  },
  {
   "cell_type": "markdown",
   "metadata": {},
   "source": [
    "Now, we can load in our data:"
   ]
  },
  {
   "cell_type": "code",
   "execution_count": 2,
   "metadata": {},
   "outputs": [
    {
     "data": {
      "text/html": [
       "<div>\n",
       "<style scoped>\n",
       "    .dataframe tbody tr th:only-of-type {\n",
       "        vertical-align: middle;\n",
       "    }\n",
       "\n",
       "    .dataframe tbody tr th {\n",
       "        vertical-align: top;\n",
       "    }\n",
       "\n",
       "    .dataframe thead th {\n",
       "        text-align: right;\n",
       "    }\n",
       "</style>\n",
       "<table border=\"1\" class=\"dataframe\">\n",
       "  <thead>\n",
       "    <tr style=\"text-align: right;\">\n",
       "      <th></th>\n",
       "      <th>reviewRating</th>\n",
       "      <th>vote</th>\n",
       "      <th>verified</th>\n",
       "      <th>reviewTime</th>\n",
       "      <th>reviewerID</th>\n",
       "      <th>productID</th>\n",
       "      <th>reviewerName</th>\n",
       "      <th>reviewText</th>\n",
       "      <th>summary</th>\n",
       "      <th>reviewTextClean</th>\n",
       "      <th>summaryClean</th>\n",
       "      <th>binary_target</th>\n",
       "    </tr>\n",
       "  </thead>\n",
       "  <tbody>\n",
       "    <tr>\n",
       "      <th>0</th>\n",
       "      <td>5.0</td>\n",
       "      <td>2</td>\n",
       "      <td>False</td>\n",
       "      <td>2016-06-17</td>\n",
       "      <td>A7HY1CEDK0204</td>\n",
       "      <td>B00I9GYG8O</td>\n",
       "      <td>Jor El</td>\n",
       "      <td>If you're looking for Cinema 4K capabilities o...</td>\n",
       "      <td>Filmmakers will love this camera.</td>\n",
       "      <td>youre looking cinema k capabilities budget cam...</td>\n",
       "      <td>filmmakers love camera</td>\n",
       "      <td>positive</td>\n",
       "    </tr>\n",
       "  </tbody>\n",
       "</table>\n",
       "</div>"
      ],
      "text/plain": [
       "   reviewRating  vote  verified  reviewTime     reviewerID   productID  \\\n",
       "0           5.0     2     False  2016-06-17  A7HY1CEDK0204  B00I9GYG8O   \n",
       "\n",
       "  reviewerName                                         reviewText  \\\n",
       "0       Jor El  If you're looking for Cinema 4K capabilities o...   \n",
       "\n",
       "                             summary  \\\n",
       "0  Filmmakers will love this camera.   \n",
       "\n",
       "                                     reviewTextClean            summaryClean  \\\n",
       "0  youre looking cinema k capabilities budget cam...  filmmakers love camera   \n",
       "\n",
       "  binary_target  \n",
       "0      positive  "
      ]
     },
     "execution_count": 2,
     "metadata": {},
     "output_type": "execute_result"
    }
   ],
   "source": [
    "# Pathway to raw data\n",
    "data_path = \"../../data/processed-data/reviews_short.csv.gz\"\n",
    "\n",
    "# Unzip the CSV file\n",
    "with gzip.open(data_path, 'rb') as f:\n",
    "    # Read the CSV file into a dataframe\n",
    "    reviews = pd.read_csv(f)\n",
    "\n",
    "reviews.head(1)"
   ]
  },
  {
   "cell_type": "code",
   "execution_count": 3,
   "metadata": {},
   "outputs": [],
   "source": [
    "#| echo: false\n",
    "reviews['reviewTextClean'] = reviews['reviewTextClean'].astype(str)\n",
    "reviews['reviewRating'] = reviews['reviewRating'].astype(int)"
   ]
  },
  {
   "cell_type": "markdown",
   "metadata": {},
   "source": [
    "## Data Preprocessing\n",
    "\n",
    "### Handling Zero-Vote rows\n",
    "\n",
    "To start out this process, I shift my focus to the heavily-skewed 'vote' column, where a vast majority of rows have zero votes. In order to reconcile this, while making the `vote` column still usable in our models, I will convert it into a binary-encoded column called `vote_binary` where its values are $1$ if the value for `vote` is non-zero, and $0$ otherwise"
   ]
  },
  {
   "cell_type": "code",
   "execution_count": 4,
   "metadata": {},
   "outputs": [
    {
     "name": "stdout",
     "output_type": "stream",
     "text": [
      "Percent of reviews with 0 votes: 86.02%\n"
     ]
    }
   ],
   "source": [
    "# Checking % of zero-vote rows\n",
    "print(f\"Percent of reviews with 0 votes: {round((len(reviews.loc[reviews['vote'] == 0])/len(reviews)*100), 2)}%\")"
   ]
  },
  {
   "cell_type": "code",
   "execution_count": 5,
   "metadata": {},
   "outputs": [
    {
     "data": {
      "text/html": [
       "<div>\n",
       "<style scoped>\n",
       "    .dataframe tbody tr th:only-of-type {\n",
       "        vertical-align: middle;\n",
       "    }\n",
       "\n",
       "    .dataframe tbody tr th {\n",
       "        vertical-align: top;\n",
       "    }\n",
       "\n",
       "    .dataframe thead th {\n",
       "        text-align: right;\n",
       "    }\n",
       "</style>\n",
       "<table border=\"1\" class=\"dataframe\">\n",
       "  <thead>\n",
       "    <tr style=\"text-align: right;\">\n",
       "      <th></th>\n",
       "      <th>vote</th>\n",
       "      <th>vote_binary</th>\n",
       "    </tr>\n",
       "  </thead>\n",
       "  <tbody>\n",
       "    <tr>\n",
       "      <th>0</th>\n",
       "      <td>2</td>\n",
       "      <td>1</td>\n",
       "    </tr>\n",
       "    <tr>\n",
       "      <th>1</th>\n",
       "      <td>0</td>\n",
       "      <td>0</td>\n",
       "    </tr>\n",
       "    <tr>\n",
       "      <th>2</th>\n",
       "      <td>0</td>\n",
       "      <td>0</td>\n",
       "    </tr>\n",
       "    <tr>\n",
       "      <th>3</th>\n",
       "      <td>0</td>\n",
       "      <td>0</td>\n",
       "    </tr>\n",
       "    <tr>\n",
       "      <th>4</th>\n",
       "      <td>5</td>\n",
       "      <td>1</td>\n",
       "    </tr>\n",
       "  </tbody>\n",
       "</table>\n",
       "</div>"
      ],
      "text/plain": [
       "   vote  vote_binary\n",
       "0     2            1\n",
       "1     0            0\n",
       "2     0            0\n",
       "3     0            0\n",
       "4     5            1"
      ]
     },
     "execution_count": 5,
     "metadata": {},
     "output_type": "execute_result"
    }
   ],
   "source": [
    "# Creating vote_binary column\n",
    "reviews['vote_binary'] = (reviews['vote'] > 0).astype(int)\n",
    "# Printing result\n",
    "reviews[['vote', 'vote_binary']].head()"
   ]
  },
  {
   "cell_type": "markdown",
   "metadata": {},
   "source": [
    "### Encoding `verified` Column\n",
    "\n",
    "Next, let's do the same thing for `verified`, setting \"True\" to 1, and \"False\" to 0."
   ]
  },
  {
   "cell_type": "code",
   "execution_count": 6,
   "metadata": {},
   "outputs": [
    {
     "data": {
      "text/html": [
       "<div>\n",
       "<style scoped>\n",
       "    .dataframe tbody tr th:only-of-type {\n",
       "        vertical-align: middle;\n",
       "    }\n",
       "\n",
       "    .dataframe tbody tr th {\n",
       "        vertical-align: top;\n",
       "    }\n",
       "\n",
       "    .dataframe thead th {\n",
       "        text-align: right;\n",
       "    }\n",
       "</style>\n",
       "<table border=\"1\" class=\"dataframe\">\n",
       "  <thead>\n",
       "    <tr style=\"text-align: right;\">\n",
       "      <th></th>\n",
       "      <th>verified</th>\n",
       "      <th>verified_binary</th>\n",
       "    </tr>\n",
       "  </thead>\n",
       "  <tbody>\n",
       "    <tr>\n",
       "      <th>0</th>\n",
       "      <td>False</td>\n",
       "      <td>0</td>\n",
       "    </tr>\n",
       "    <tr>\n",
       "      <th>1</th>\n",
       "      <td>False</td>\n",
       "      <td>0</td>\n",
       "    </tr>\n",
       "    <tr>\n",
       "      <th>2</th>\n",
       "      <td>True</td>\n",
       "      <td>1</td>\n",
       "    </tr>\n",
       "    <tr>\n",
       "      <th>3</th>\n",
       "      <td>True</td>\n",
       "      <td>1</td>\n",
       "    </tr>\n",
       "    <tr>\n",
       "      <th>4</th>\n",
       "      <td>True</td>\n",
       "      <td>1</td>\n",
       "    </tr>\n",
       "  </tbody>\n",
       "</table>\n",
       "</div>"
      ],
      "text/plain": [
       "   verified  verified_binary\n",
       "0     False                0\n",
       "1     False                0\n",
       "2      True                1\n",
       "3      True                1\n",
       "4      True                1"
      ]
     },
     "execution_count": 6,
     "metadata": {},
     "output_type": "execute_result"
    }
   ],
   "source": [
    "# Creating verified_binary column\n",
    "reviews['verified_binary'] = (reviews['verified'] == True).astype(int)\n",
    "# Printing result\n",
    "reviews[['verified', 'verified_binary']].head()"
   ]
  },
  {
   "cell_type": "markdown",
   "metadata": {},
   "source": [
    "### Encoding `productID`\n",
    "\n",
    "Here, I use sklearn's [`LabelEncoder`](https://scikit-learn.org/dev/modules/generated/sklearn.preprocessing.LabelEncoder.html) object to convert the productID column into a more useful format for modeling. For this process, I will keep both the non-encoded and encoded version of `productID`, as the non-encoded version may be useful for tree-based algorithms like Random Forests and Gradient Boosting, while the encoded version may prove more useful in models that require a numerical input, like Logistic Regression and Support Vector Machines SVM."
   ]
  },
  {
   "cell_type": "code",
   "execution_count": 7,
   "metadata": {},
   "outputs": [
    {
     "data": {
      "text/html": [
       "<div>\n",
       "<style scoped>\n",
       "    .dataframe tbody tr th:only-of-type {\n",
       "        vertical-align: middle;\n",
       "    }\n",
       "\n",
       "    .dataframe tbody tr th {\n",
       "        vertical-align: top;\n",
       "    }\n",
       "\n",
       "    .dataframe thead th {\n",
       "        text-align: right;\n",
       "    }\n",
       "</style>\n",
       "<table border=\"1\" class=\"dataframe\">\n",
       "  <thead>\n",
       "    <tr style=\"text-align: right;\">\n",
       "      <th></th>\n",
       "      <th>productID</th>\n",
       "      <th>productID_encoded</th>\n",
       "    </tr>\n",
       "  </thead>\n",
       "  <tbody>\n",
       "    <tr>\n",
       "      <th>0</th>\n",
       "      <td>B00I9GYG8O</td>\n",
       "      <td>27766</td>\n",
       "    </tr>\n",
       "    <tr>\n",
       "      <th>1</th>\n",
       "      <td>B01DB6BK5I</td>\n",
       "      <td>42622</td>\n",
       "    </tr>\n",
       "    <tr>\n",
       "      <th>2</th>\n",
       "      <td>B00011KM3I</td>\n",
       "      <td>1415</td>\n",
       "    </tr>\n",
       "    <tr>\n",
       "      <th>3</th>\n",
       "      <td>B000EDOSFQ</td>\n",
       "      <td>3153</td>\n",
       "    </tr>\n",
       "    <tr>\n",
       "      <th>4</th>\n",
       "      <td>B01CVOLKKQ</td>\n",
       "      <td>42382</td>\n",
       "    </tr>\n",
       "  </tbody>\n",
       "</table>\n",
       "</div>"
      ],
      "text/plain": [
       "    productID  productID_encoded\n",
       "0  B00I9GYG8O              27766\n",
       "1  B01DB6BK5I              42622\n",
       "2  B00011KM3I               1415\n",
       "3  B000EDOSFQ               3153\n",
       "4  B01CVOLKKQ              42382"
      ]
     },
     "execution_count": 7,
     "metadata": {},
     "output_type": "execute_result"
    }
   ],
   "source": [
    "# Initializing LabelEncoder object\n",
    "encoder = LabelEncoder()\n",
    "# Fitting to our productID column\n",
    "reviews['productID_encoded'] = encoder.fit_transform(reviews['productID'])\n",
    "# Checking result\n",
    "reviews[['productID', 'productID_encoded']].head()"
   ]
  },
  {
   "cell_type": "markdown",
   "metadata": {},
   "source": [
    "### Encoding Binary Target\n",
    "\n",
    "Here, I use binary encoding to create a new `binary_sentiment` column that adjusts values in the `binary_target` column. Specifically, I will change the value \"positive\" to 1, and \"negative\" to 0."
   ]
  },
  {
   "cell_type": "code",
   "execution_count": 8,
   "metadata": {},
   "outputs": [
    {
     "data": {
      "text/html": [
       "<div>\n",
       "<style scoped>\n",
       "    .dataframe tbody tr th:only-of-type {\n",
       "        vertical-align: middle;\n",
       "    }\n",
       "\n",
       "    .dataframe tbody tr th {\n",
       "        vertical-align: top;\n",
       "    }\n",
       "\n",
       "    .dataframe thead th {\n",
       "        text-align: right;\n",
       "    }\n",
       "</style>\n",
       "<table border=\"1\" class=\"dataframe\">\n",
       "  <thead>\n",
       "    <tr style=\"text-align: right;\">\n",
       "      <th></th>\n",
       "      <th>binary_target</th>\n",
       "      <th>binary_sentiment</th>\n",
       "    </tr>\n",
       "  </thead>\n",
       "  <tbody>\n",
       "    <tr>\n",
       "      <th>0</th>\n",
       "      <td>positive</td>\n",
       "      <td>1</td>\n",
       "    </tr>\n",
       "    <tr>\n",
       "      <th>1</th>\n",
       "      <td>negative</td>\n",
       "      <td>0</td>\n",
       "    </tr>\n",
       "    <tr>\n",
       "      <th>2</th>\n",
       "      <td>positive</td>\n",
       "      <td>1</td>\n",
       "    </tr>\n",
       "    <tr>\n",
       "      <th>3</th>\n",
       "      <td>positive</td>\n",
       "      <td>1</td>\n",
       "    </tr>\n",
       "    <tr>\n",
       "      <th>4</th>\n",
       "      <td>negative</td>\n",
       "      <td>0</td>\n",
       "    </tr>\n",
       "  </tbody>\n",
       "</table>\n",
       "</div>"
      ],
      "text/plain": [
       "  binary_target  binary_sentiment\n",
       "0      positive                 1\n",
       "1      negative                 0\n",
       "2      positive                 1\n",
       "3      positive                 1\n",
       "4      negative                 0"
      ]
     },
     "execution_count": 8,
     "metadata": {},
     "output_type": "execute_result"
    }
   ],
   "source": [
    "# Creating verified_binary column\n",
    "reviews['binary_sentiment'] = (reviews['binary_target'] == \"positive\").astype(int)\n",
    "# Printing result\n",
    "reviews[['binary_target', 'binary_sentiment']].head()"
   ]
  },
  {
   "cell_type": "markdown",
   "metadata": {},
   "source": [
    "### Dropping Unnecessary Columns\n",
    "\n",
    "With that out of the way, let's begin to drop unnecessary columns. For this section, we will drop:\n",
    "\n",
    "- `binary_sentiment:` String-encoded sentiment column\n",
    "- `vote:` Non-encoded vote column\n",
    "- `productID:` Non-encoded product ID\n",
    "- `verified:` Non-encoded values for varified column\n",
    "- `reviewTime:` Time of review, since we are not conducting any time series analysis here\n",
    "- `reviewerID:` ID of reviewer\n",
    "- `reviewerName:` Name of reviewer\n",
    "\n",
    "I choose to leave in the uncleaned versions of the review text and summary in case I want to use some all-in-one embedding tools down the line like `BERT`.\n"
   ]
  },
  {
   "cell_type": "code",
   "execution_count": 9,
   "metadata": {},
   "outputs": [
    {
     "data": {
      "text/html": [
       "<div>\n",
       "<style scoped>\n",
       "    .dataframe tbody tr th:only-of-type {\n",
       "        vertical-align: middle;\n",
       "    }\n",
       "\n",
       "    .dataframe tbody tr th {\n",
       "        vertical-align: top;\n",
       "    }\n",
       "\n",
       "    .dataframe thead th {\n",
       "        text-align: right;\n",
       "    }\n",
       "</style>\n",
       "<table border=\"1\" class=\"dataframe\">\n",
       "  <thead>\n",
       "    <tr style=\"text-align: right;\">\n",
       "      <th></th>\n",
       "      <th>reviewRating</th>\n",
       "      <th>reviewText</th>\n",
       "      <th>summary</th>\n",
       "      <th>reviewTextClean</th>\n",
       "      <th>summaryClean</th>\n",
       "      <th>vote_binary</th>\n",
       "      <th>verified_binary</th>\n",
       "      <th>productID_encoded</th>\n",
       "      <th>binary_sentiment</th>\n",
       "    </tr>\n",
       "  </thead>\n",
       "  <tbody>\n",
       "    <tr>\n",
       "      <th>0</th>\n",
       "      <td>5</td>\n",
       "      <td>If you're looking for Cinema 4K capabilities o...</td>\n",
       "      <td>Filmmakers will love this camera.</td>\n",
       "      <td>youre looking cinema k capabilities budget cam...</td>\n",
       "      <td>filmmakers love camera</td>\n",
       "      <td>1</td>\n",
       "      <td>0</td>\n",
       "      <td>27766</td>\n",
       "      <td>1</td>\n",
       "    </tr>\n",
       "  </tbody>\n",
       "</table>\n",
       "</div>"
      ],
      "text/plain": [
       "   reviewRating                                         reviewText  \\\n",
       "0             5  If you're looking for Cinema 4K capabilities o...   \n",
       "\n",
       "                             summary  \\\n",
       "0  Filmmakers will love this camera.   \n",
       "\n",
       "                                     reviewTextClean            summaryClean  \\\n",
       "0  youre looking cinema k capabilities budget cam...  filmmakers love camera   \n",
       "\n",
       "   vote_binary  verified_binary  productID_encoded  binary_sentiment  \n",
       "0            1                0              27766                 1  "
      ]
     },
     "execution_count": 9,
     "metadata": {},
     "output_type": "execute_result"
    }
   ],
   "source": [
    "# Setting columns to drop \n",
    "cols_to_drop = ['binary_target', 'verified', 'vote','productID', 'reviewTime', 'reviewerID', 'reviewerName']\n",
    "# Dropping\n",
    "reviews = reviews.drop(columns=cols_to_drop)\n",
    "# Printing result\n",
    "reviews.head(1)"
   ]
  },
  {
   "cell_type": "markdown",
   "metadata": {},
   "source": [
    "### Renaming and Reordering Columns for Cleanliness"
   ]
  },
  {
   "cell_type": "code",
   "execution_count": 10,
   "metadata": {},
   "outputs": [
    {
     "data": {
      "text/html": [
       "<div>\n",
       "<style scoped>\n",
       "    .dataframe tbody tr th:only-of-type {\n",
       "        vertical-align: middle;\n",
       "    }\n",
       "\n",
       "    .dataframe tbody tr th {\n",
       "        vertical-align: top;\n",
       "    }\n",
       "\n",
       "    .dataframe thead th {\n",
       "        text-align: right;\n",
       "    }\n",
       "</style>\n",
       "<table border=\"1\" class=\"dataframe\">\n",
       "  <thead>\n",
       "    <tr style=\"text-align: right;\">\n",
       "      <th></th>\n",
       "      <th>product_id</th>\n",
       "      <th>rating</th>\n",
       "      <th>vote</th>\n",
       "      <th>verified</th>\n",
       "      <th>sentiment</th>\n",
       "      <th>text_clean</th>\n",
       "      <th>summary_clean</th>\n",
       "      <th>text</th>\n",
       "      <th>summary</th>\n",
       "    </tr>\n",
       "  </thead>\n",
       "  <tbody>\n",
       "    <tr>\n",
       "      <th>0</th>\n",
       "      <td>27766</td>\n",
       "      <td>5</td>\n",
       "      <td>1</td>\n",
       "      <td>0</td>\n",
       "      <td>1</td>\n",
       "      <td>youre looking cinema k capabilities budget cam...</td>\n",
       "      <td>filmmakers love camera</td>\n",
       "      <td>If you're looking for Cinema 4K capabilities o...</td>\n",
       "      <td>Filmmakers will love this camera.</td>\n",
       "    </tr>\n",
       "  </tbody>\n",
       "</table>\n",
       "</div>"
      ],
      "text/plain": [
       "   product_id  rating  vote  verified  sentiment  \\\n",
       "0       27766       5     1         0          1   \n",
       "\n",
       "                                          text_clean           summary_clean  \\\n",
       "0  youre looking cinema k capabilities budget cam...  filmmakers love camera   \n",
       "\n",
       "                                                text  \\\n",
       "0  If you're looking for Cinema 4K capabilities o...   \n",
       "\n",
       "                             summary  \n",
       "0  Filmmakers will love this camera.  "
      ]
     },
     "execution_count": 10,
     "metadata": {},
     "output_type": "execute_result"
    }
   ],
   "source": [
    "# Renaming columns \n",
    "renamed_columns = {\n",
    "    'reviewRating': 'rating',\n",
    "    'reviewText': 'text',\n",
    "    'summary': 'summary',\n",
    "    'reviewTextClean': 'text_clean',\n",
    "    'summaryClean': 'summary_clean',\n",
    "    'binary_sentiment': 'sentiment',\n",
    "    'vote_binary': 'vote',\n",
    "    'verified_binary': 'verified',\n",
    "    'productID_encoded': 'product_id'\n",
    "}\n",
    "\n",
    "reviews = reviews.rename(columns=renamed_columns)\n",
    "\n",
    "# Rordering columns for clarity\n",
    "column_order = [\n",
    "    'product_id',\n",
    "    'rating',\n",
    "    'vote',\n",
    "    'verified',\n",
    "    'sentiment',\n",
    "    'text_clean', \n",
    "    'summary_clean', \n",
    "    'text', \n",
    "    'summary', \n",
    "]\n",
    "\n",
    "reviews = reviews[column_order]\n",
    "\n",
    "# Printing result\n",
    "reviews.head(1)"
   ]
  },
  {
   "cell_type": "markdown",
   "metadata": {},
   "source": [
    "As a reminder for our boolean columns:\n",
    "\n",
    "- `vote`: $(1 \\ \\text{for non-zero vote counts}, \\ 0 \\  \\text{otherwise})$\n",
    "- `verified`: $(1 \\ \\text{if account is verified}, \\ 0 \\  \\text{otherwise})$\n",
    "- `sentiment`: $(1 \\ \\text{if rating} \\ \\geq{4}, \\ 0 \\  \\text{if rating} \\ < 4)$"
   ]
  },
  {
   "cell_type": "markdown",
   "metadata": {},
   "source": [
    "## Feature Extraction\n",
    "\n",
    "### Polarity\n",
    "\n",
    "Before moving on to more advanced feature extraction, I am going to quickly add back the `polarity` column that we worked with in the EDA section to serve as a target variable in our regression models. If you need a refresher on polarity, please head over to the [EDA](../eda/main.ipynb) section where I provide an overview."
   ]
  },
  {
   "cell_type": "code",
   "execution_count": 11,
   "metadata": {},
   "outputs": [
    {
     "data": {
      "text/html": [
       "<div>\n",
       "<style scoped>\n",
       "    .dataframe tbody tr th:only-of-type {\n",
       "        vertical-align: middle;\n",
       "    }\n",
       "\n",
       "    .dataframe tbody tr th {\n",
       "        vertical-align: top;\n",
       "    }\n",
       "\n",
       "    .dataframe thead th {\n",
       "        text-align: right;\n",
       "    }\n",
       "</style>\n",
       "<table border=\"1\" class=\"dataframe\">\n",
       "  <thead>\n",
       "    <tr style=\"text-align: right;\">\n",
       "      <th></th>\n",
       "      <th>text</th>\n",
       "      <th>rating</th>\n",
       "      <th>polarity</th>\n",
       "    </tr>\n",
       "  </thead>\n",
       "  <tbody>\n",
       "    <tr>\n",
       "      <th>0</th>\n",
       "      <td>If you're looking for Cinema 4K capabilities o...</td>\n",
       "      <td>5</td>\n",
       "      <td>0.321675</td>\n",
       "    </tr>\n",
       "  </tbody>\n",
       "</table>\n",
       "</div>"
      ],
      "text/plain": [
       "                                                text  rating  polarity\n",
       "0  If you're looking for Cinema 4K capabilities o...       5  0.321675"
      ]
     },
     "execution_count": 11,
     "metadata": {},
     "output_type": "execute_result"
    }
   ],
   "source": [
    "# TextBlob allows us to feed raw text into it for polarity extraction, so I will do that here\n",
    "reviews['polarity'] = reviews['text'].apply(lambda x: TextBlob(x).sentiment.polarity)\n",
    "# printing result\n",
    "reviews[['text', 'rating', 'polarity']].head(1)"
   ]
  },
  {
   "cell_type": "markdown",
   "metadata": {},
   "source": [
    "### TF-IDF\n",
    "\n",
    "Term frequency-inverse document freqeuncy (TF-IDF) is a process that measures the importance of a word (or pair of words in our case) by comparing its rate of appearance in a document to its rate of appearance in a whole collection of documents. In this approach, the weight of a given word or word-pair depends both on its frequency and rarity. The benefit of TF-IDF over a simple document term matrix is that TF-IDF will punish words/pairs that occur frequently across our corpus, and favor words that have importance in their respective documents, and are found less frequently across the corpus[@TFIDF]. Recall the formulaic representation of TF-IDF that I include on the home page:\n",
    "\n",
    "In equation form[@TFIDF]: \n",
    "$$\n",
    "\\text{TF}(t,d) = \\frac{\\text{Number of times term t appears in document d}}{\\text{Total number of terms in document d}}\n",
    "$$\n",
    "$$\n",
    "\\text{IDF}(t,D) = log_{e}\\frac{\\text{Total number of documents D in corpus}}{\\text{Number of documents containing term t}}\n",
    "$$\n",
    "$$\n",
    "\\text{TF-IDF} = TF(t,d) \\cdot IDF(t,D)\n",
    "$$\n",
    "\n",
    "\n",
    "For its implementation here, I define the function `tfidf_embedding()` that takes in our pandas dataframe, applies TF-IDF to the cleaned review text column, and returns a dataframe that contains all of the tfidf features. The main function process uses the `TfidfVectorizer` from the sklearn library. In my implementation, I feed in the following parameters[@scikitTFIDF]:\n",
    "\n",
    "- `max_features`: Threshold for the number of features to be ranked by their term frequency across the corpus.\n",
    "- `ngram_range`: A tuple that controls the range of n-values for different n-grams to be extracted. In my case, I use (1,2) to include both unigrams and bigrams."
   ]
  },
  {
   "cell_type": "code",
   "execution_count": 12,
   "metadata": {},
   "outputs": [],
   "source": [
    "def tfidf_embedding(df, text_column, max_features=1000, ngram_range=(1,2)):\n",
    "    \"\"\"\n",
    "    This function:\n",
    "    1) Takes in a pandas dataframe and target text column\n",
    "    2) Applies TF-IDF embedding using the set parameters\n",
    "    3) Returns pandas dataframe with tf-idf features \n",
    "    \"\"\"\n",
    "\n",
    "    # Initialize TfidfVectorizer\n",
    "    tfidf = TfidfVectorizer(max_features=max_features, ngram_range=ngram_range, stop_words='english') # Included stopwords param here to help clean up spots that I may have missed in text processing section\n",
    "\n",
    "    # Fit tfidf to our target column\n",
    "    tfidf_features = tfidf.fit_transform(df[text_column])\n",
    "\n",
    "    # Create pandas dataframe for tfidf features\n",
    "    tfidf_df = pd.DataFrame(tfidf_features.toarray(), columns=[f\"tfidf_{i}\" for i in range(tfidf_features.shape[1])])\n",
    "\n",
    "    # Concatenate TF-IDF features df with our original df to maintain other features\n",
    "    df_tfidf = pd.concat([df.reset_index(drop=True), tfidf_df.reset_index(drop=True)], axis = 1)\n",
    "\n",
    "    return df_tfidf"
   ]
  },
  {
   "cell_type": "code",
   "execution_count": 13,
   "metadata": {},
   "outputs": [
    {
     "data": {
      "text/plain": [
       "(100000, 510)"
      ]
     },
     "execution_count": 13,
     "metadata": {},
     "output_type": "execute_result"
    }
   ],
   "source": [
    "## Applying this function to our reviews data set\n",
    "reviews_tfidf = tfidf_embedding(reviews, text_column='text_clean', max_features=500, ngram_range=(1,2))\n",
    "# Printing shape\n",
    "reviews_tfidf.shape"
   ]
  },
  {
   "cell_type": "code",
   "execution_count": 14,
   "metadata": {},
   "outputs": [
    {
     "data": {
      "text/html": [
       "<div>\n",
       "<style scoped>\n",
       "    .dataframe tbody tr th:only-of-type {\n",
       "        vertical-align: middle;\n",
       "    }\n",
       "\n",
       "    .dataframe tbody tr th {\n",
       "        vertical-align: top;\n",
       "    }\n",
       "\n",
       "    .dataframe thead th {\n",
       "        text-align: right;\n",
       "    }\n",
       "</style>\n",
       "<table border=\"1\" class=\"dataframe\">\n",
       "  <thead>\n",
       "    <tr style=\"text-align: right;\">\n",
       "      <th></th>\n",
       "      <th>product_id</th>\n",
       "      <th>rating</th>\n",
       "      <th>vote</th>\n",
       "      <th>verified</th>\n",
       "      <th>sentiment</th>\n",
       "      <th>text_clean</th>\n",
       "      <th>summary_clean</th>\n",
       "      <th>text</th>\n",
       "      <th>summary</th>\n",
       "      <th>polarity</th>\n",
       "      <th>...</th>\n",
       "      <th>tfidf_490</th>\n",
       "      <th>tfidf_491</th>\n",
       "      <th>tfidf_492</th>\n",
       "      <th>tfidf_493</th>\n",
       "      <th>tfidf_494</th>\n",
       "      <th>tfidf_495</th>\n",
       "      <th>tfidf_496</th>\n",
       "      <th>tfidf_497</th>\n",
       "      <th>tfidf_498</th>\n",
       "      <th>tfidf_499</th>\n",
       "    </tr>\n",
       "  </thead>\n",
       "  <tbody>\n",
       "    <tr>\n",
       "      <th>0</th>\n",
       "      <td>27766</td>\n",
       "      <td>5</td>\n",
       "      <td>1</td>\n",
       "      <td>0</td>\n",
       "      <td>1</td>\n",
       "      <td>youre looking cinema k capabilities budget cam...</td>\n",
       "      <td>filmmakers love camera</td>\n",
       "      <td>If you're looking for Cinema 4K capabilities o...</td>\n",
       "      <td>Filmmakers will love this camera.</td>\n",
       "      <td>0.321675</td>\n",
       "      <td>...</td>\n",
       "      <td>0.0</td>\n",
       "      <td>0.0</td>\n",
       "      <td>0.0</td>\n",
       "      <td>0.0</td>\n",
       "      <td>0.0</td>\n",
       "      <td>0.0</td>\n",
       "      <td>0.0</td>\n",
       "      <td>0.0</td>\n",
       "      <td>0.219799</td>\n",
       "      <td>0.0</td>\n",
       "    </tr>\n",
       "  </tbody>\n",
       "</table>\n",
       "<p>1 rows × 510 columns</p>\n",
       "</div>"
      ],
      "text/plain": [
       "   product_id  rating  vote  verified  sentiment  \\\n",
       "0       27766       5     1         0          1   \n",
       "\n",
       "                                          text_clean           summary_clean  \\\n",
       "0  youre looking cinema k capabilities budget cam...  filmmakers love camera   \n",
       "\n",
       "                                                text  \\\n",
       "0  If you're looking for Cinema 4K capabilities o...   \n",
       "\n",
       "                             summary  polarity  ...  tfidf_490  tfidf_491  \\\n",
       "0  Filmmakers will love this camera.  0.321675  ...        0.0        0.0   \n",
       "\n",
       "   tfidf_492  tfidf_493  tfidf_494  tfidf_495  tfidf_496  tfidf_497  \\\n",
       "0        0.0        0.0        0.0        0.0        0.0        0.0   \n",
       "\n",
       "   tfidf_498  tfidf_499  \n",
       "0   0.219799        0.0  \n",
       "\n",
       "[1 rows x 510 columns]"
      ]
     },
     "execution_count": 14,
     "metadata": {},
     "output_type": "execute_result"
    }
   ],
   "source": [
    "reviews_tfidf.head(1)"
   ]
  },
  {
   "cell_type": "markdown",
   "metadata": {},
   "source": [
    "# Section 2: Classification\n",
    "\n",
    "**Model Selection**\n",
    "\n",
    "**Modeling Pipline**\n",
    "\n",
    "**Binary Classification**\n",
    "\n",
    "**Multi-class Classification**\n",
    "\n",
    "**Undersampling**\n"
   ]
  },
  {
   "cell_type": "markdown",
   "metadata": {},
   "source": [
    "## Model Selection\n",
    "\n",
    "### Binary Classification\n",
    "***Predicting sentiment value (positive or negative)***\n",
    "\n",
    "#### Logistic Regression\n",
    "\n",
    "- **Overview**\n",
    "\n",
    "Logistic regression is a type of supervised learning technique that is often used to predict a binary outcome (A or B). The model does this by taking in a set of independent variables for a given observation, and calculating the probability that they belong to a certain target class. Logistic regressions use a [sigmoid function](https://www.linkedin.com/pulse/understanding-sigmoid-function-logistic-regression-piduguralla/) that maps the linear combination of inputs to a final probability in the range [0, 1].[@sigmoid] If the value returned by the sigmoid function is $\\geq 0.5$, then the model assigns the observation to the target class (in our case it assigns the value $1$ to reviews that it believes are positive)\n",
    "\n",
    "**Sigmoid Function:**\n",
    "<br>\n",
    "![](../../xtra/multiclass-portfolio-website/images/sigmoid.png){width=\"500px\"}\n",
    "<br>\n",
    "Source: [Daily Dose of Data Science](https://www.dailydoseofds.com/why-do-we-use-sigmoid-in-logistic-regression/)\n",
    "<br>\n",
    "\n",
    "- **Model Rationale**\n",
    "\n",
    "When selecting which binary classification models I wanted to use for predicting `sentiment`, logistic regression stood out as an obvious baseline. The model's simplicity, and direct probabilistic output makes it a reliable and lightweight option for running predictions using TF-IDF embeddings. \n",
    "\n",
    "#### Random Forest \n",
    "\n",
    "- **Overview**\n",
    "\n",
    "Random forests are a [decision tree](https://en.wikipedia.org/wiki/Decision_tree) based approach to machine learning. Decision trees are non-parametric models that can be used for both regression and classification. Their process begins by selecting a \"root node\", or initial question about a feature in the data. From there they break off into different branches that ask more and more specific questions about the features. The end result, also called the \"leaf node,\" outputs the class that best fits the criteria defined in the upper nodes.[@decisiontrees] Random forest models take this same approach, but instead of relying on a single tree, they build multiple decision trees during the training process, and aggregate their results to provide stronger prediction. \n",
    "\n",
    "**Decision Tree vs. Random Forest:**\n",
    "<br>\n",
    "![](../../xtra/multiclass-portfolio-website/images/trees_v_forests.jpg){width=\"500px\"}\n",
    "<br>\n",
    "Source: [Towards Data Science](https://towardsdatascience.com/10-decision-trees-are-better-than-1-719406680564)\n",
    "<br>\n",
    "\n",
    "- **Model Rationale**\n",
    "\n",
    "When brainstorming which models I wanted to use for binary classification, Random Forests stood out as a solid candidate for their ability to handle high dimensional data (like we see with our TF-IDF embeddings). Random Forests also come with the added benefit of being robust to potentially overfitting the data - as their ensemble structure requires different individual trees to be trained on subsets of the data.\n",
    "\n",
    "\n",
    "### Multi-class Classification\n",
    "***Predicting review rating (1-5)***\n",
    "\n",
    "#### Support Vector Machine (SVM)\n",
    "\n",
    "- **Overview**\n",
    "\n",
    "Support Vector Machines (SVMs) are supervised learning techniques that are commonly applied to classification problems. They assign classes by finding the optimal \"hyperplane\" in a high dimensional space that maximizes the distance between groups of data points.[@SVM] In simple english, SVMs are looking for the best line of boundary that creates the largest distance between groups of points, and then assigns the different groups to their own class.\n",
    "\n",
    "**SVM Overview:**\n",
    "<br>\n",
    "![](../../xtra/multiclass-portfolio-website/images/svm.png){width=\"400px\"}\n",
    "<br>\n",
    "Source: [Medium](https://medium.com/analytics-vidhya/support-vector-machine-svm-i-can-do-both-classification-and-regression-c90235e847df)\n",
    "<br>\n",
    "\n",
    "- **Model Rationale**\n",
    "\n",
    "For the task of classifying different review scores, I consider the use of SVM because it excels in separating points in high-dimensions. In the case of my my 500 dimensional TF-IDF feature space, SVM should be able to successfully separate groups of points into our desired ratings scores. \n",
    "\n",
    "#### Multinomial Naive Bayes\n",
    "\n",
    "- **Overview**\n",
    "\n",
    "Multinomial Naive Bayes (MNB) takes a probabilistic approach to assigning different classes by first calculating the probabilities of different classes based on their frequency in the data. It assumes that all features are \"conditionally independent\" - meaning it treats each feature as being distinct and unrelated to the others.[@MNB] This assumption makes the model highly computationally efficient, as it only has to assign a single probability to each feature.\n",
    "\n",
    "- **Model Rationale**\n",
    "\n",
    "For predicting the different review scores in my data set, I elect to use MNB for two reasons. Similar to SVM, MNB performs well with high-dimensional sparse data like our TF-IDF embeddings. The second reason why elect to use MNB here is because it is lightweight. Like I stated above, MNB's core assumption of feature independence makes it computationally cheaper to run vs other models."
   ]
  },
  {
   "cell_type": "markdown",
   "metadata": {},
   "source": [
    "## Classification Model Pipeline \n",
    "\n",
    "Below, I define the function `classification()`, that takes in the following parameters:\n",
    "\n",
    "- `df`: A pandas dataframe containing all of our data, including features and the target variable\n",
    "- `target`: A string that allows us to define which variables in `df` that we want to use as the predictor (either 'sentiment' or 'rating')\n",
    "- `selected_features`: A list object that allows me to subset different features in the data when running predictions\n",
    "- `include_tfidf`: A boolean value that states whether or not we include the TF-IDF embeddings in our features\n",
    "- `test_size`: Determines the percent of observations that we want to test on\n",
    "- `random_state`: A random seed that we include for reproducibility\n",
    "- `show_confusion_mat`: Boolean value indicating whether we want the function to display a confusion matrix\n",
    "\n",
    "The function works by first extracting which variables we will use as features when running predictions. If `include_tfidf` is set to true, then I apply sklearn's `MinMaxScaler` object to my TF-IDF features in order to normalize their magnitude, as models like SVM and logistic regressions are sensitive to the scale of our input features. I elect to use `MinMaxScaler` over the standard scaler since models like Multinomial Naive Bayes require non-negative inputs (StandardScaler centers the data around mean 0, meaning some of the scaled values will be negative).\n",
    "\n",
    "The function then splits the features and target into `X` and `y` dataframes, and uses scikit learn's `train_test_split` function to further split the data into a training and testing set. From there, the function references which variable we want to predict. In cases where `target` is set to \"sentiment\", we initialize `LogisticRegression` and `RandomForestClassifer` objects to perform binary classification. If `target` is defined as \"rating\", we instead initialize `SVC` and `MultinomialNP` objects and continue forward with a multi-class prediction. In both cases, the function creates a dictionary called `models` that stores the name and configurations of our classifers. \n",
    "\n",
    "After that, the we create a `results` dictionary that stores the results of each model. To run the models, I use a for loop that runs through each item (or model) in the `models` dictionary. During each model iteration, I create a subdictionary called `metrics` that stores the following results from our predictions:\n",
    "\n",
    "**\"Accuracy\":** Meaures the proportion of correct predictions made\n",
    "\n",
    "$\\frac{\\text{True Positives + True Negatives}}{\\text{Total Samples}}$\n",
    "\n",
    "**\"Precision\":** Measures the proportion of true positives to all positive predictions made\n",
    "\n",
    "$\\frac{\\text{True Positives}}{\\text{True Positives + False Positives}}$\n",
    "\n",
    "**\"Recall\":** Measures the proportion of actual positives that our model(s) identified\n",
    "\n",
    "$\\frac{\\text{True Positives}}{\\text{True Positives + False Negatives}}$\n",
    "\n",
    "**\"F1 Score\":** Takes into consideration both Precision and Recall - focusing more on class-wise performance.[@F1Score]\n",
    "\n",
    "$\\frac{\\text{True Positives}}{\\text{True Positives + False Negatives}}$\n",
    "\n",
    "After we gather all of the results, I select the best model of the two by picking the one with the highest **F1 Score** value. I place the most emphasis on F1 Score here because our data set is heavily imbalanced. Specifically, there is an overwhelming amount of reviews (our multi-class target) with 5-star ratings, which also impacts our binary class (`sentiment`), as its value directly relates to `rating`."
   ]
  },
  {
   "cell_type": "code",
   "execution_count": 24,
   "metadata": {},
   "outputs": [],
   "source": [
    "# Pipeline for running binary and multi-class predictions\n",
    "def classification(df, target='sentiment', selected_features=None, include_tfidf=False, test_size = 0.20, random_state = 5000, show_confusion_matrix=False):\n",
    "    \n",
    "    # Step 1: select which features we want to use\n",
    "    # 1(a) raise error if parameters are left blank\n",
    "    if selected_features is None and not include_tfidf:\n",
    "        raise ValueError(\"Please specify either `selected_features` or set `include_tfidf` to True\")\n",
    "    \n",
    "    # 1(b) combine features\n",
    "    features = []\n",
    "    if selected_features:\n",
    "        features += selected_features\n",
    "\n",
    "    if include_tfidf:\n",
    "        features += [col for col in df.columns if col.startswith(\"tfidf_\")]\n",
    "\n",
    "    # 1(c) Extract Features and Target variables\n",
    "    X = df[features]\n",
    "    y = df[target]\n",
    "\n",
    "    # Step 2: Train-Test Split\n",
    "    X_train, X_test, y_train, y_test = train_test_split(X, y, test_size=test_size, random_state=random_state)\n",
    "\n",
    "    # Step 3: Scale TF-IDF features\n",
    "    if include_tfidf:\n",
    "        scaler = MinMaxScaler()\n",
    "        tfidf_cols = [col for col in X_train.columns if col.startswith(\"tfidf_\")]\n",
    "        \n",
    "        # Scale\n",
    "        X_train[tfidf_cols] = scaler.fit_transform(X_train[tfidf_cols])\n",
    "        X_test[tfidf_cols] = scaler.fit_transform(X_test[tfidf_cols])\n",
    "\n",
    "    # Step 4: Initialize Models Based on our target variable\n",
    "    if target == 'sentiment':\n",
    "        models = {\n",
    "            \"Logistic Regression\": LogisticRegression(max_iter = 1000, random_state=random_state),\n",
    "            \"Random Forest\": RandomForestClassifier(n_estimators=100, random_state=random_state)\n",
    "        }\n",
    "\n",
    "    elif target == 'rating':\n",
    "        models = {\n",
    "            \"SVM\": SVC(kernel='rbf',\n",
    "                       C =0.5,\n",
    "                       gamma ='auto',\n",
    "                       tol=0.01,\n",
    "                       shrinking=False,\n",
    "                       max_iter=1000,\n",
    "                       cache_size=1000,\n",
    "                       probability=False,\n",
    "                       random_state=random_state),\n",
    "            \"Naive Bayes\": MultinomialNB()\n",
    "        }\n",
    "    \n",
    "    else: # Only rating and sentiment are legal target variables in our data\n",
    "        raise ValueError(\"Unsupported target var - please use either 'sentiment' or 'rating'.\")\n",
    "\n",
    "    # Step 5: Train and evaluate the models\n",
    "    results = {}\n",
    "    predictions = {}\n",
    "    for model_name, model in models.items():\n",
    "        model.fit(X_train, y_train)\n",
    "        y_pred = model.predict(X_test)\n",
    "        # Store predictions in separate dictionary to reference later for confusion matrix\n",
    "        predictions[model_name] = y_pred\n",
    "\n",
    "        # Try 'predict_proba' if available (it won't be for out SVM because we want to speed up execution)\n",
    "        try: \n",
    "            y_pred_prob = model.predict_proba(X_test)[:, 1]\n",
    "        except AttributeError:\n",
    "            y_pred_prob = None\n",
    "\n",
    "        # Calculate error metrics\n",
    "        if target == 'sentiment': # Metrics for binary classification\n",
    "            metrics = {\n",
    "                \"Accuracy\": accuracy_score(y_test, y_pred),\n",
    "                \"Precision\": precision_score(y_test, y_pred),\n",
    "                \"Recall\": recall_score(y_test, y_pred),\n",
    "                \"F1 Score\": f1_score(y_test, y_pred),\n",
    "            }\n",
    "\n",
    "        elif target == 'rating': # Multiclass metrics\n",
    "            metrics = {\n",
    "                \"Accuracy\": accuracy_score(y_test, y_pred),\n",
    "                \"Precision (Multi)\": precision_score(y_test, y_pred, average='macro'),\n",
    "                \"Recall (Multi)\": recall_score(y_test, y_pred, average='macro'),\n",
    "                \"F1 Score (Multi)\": f1_score(y_test, y_pred, average='macro')\n",
    "            }\n",
    "\n",
    "        # Add metrics to results dict\n",
    "        results[model_name] = {\n",
    "            \"Model\": model,\n",
    "            \"Metrics\": metrics\n",
    "        }\n",
    "\n",
    "    # Step 6: Return the best model based on F1 score\n",
    "    f1_key = \"F1 Score\" if target == 'sentiment' else 'F1 Score (Multi)' # Ensure we are maximizing the correct F1 Score\n",
    "    best_model = max(results, key=lambda k: results[k][\"Metrics\"][f1_key])\n",
    "\n",
    "\n",
    "    print(f\"BEST MODEL: {best_model}\")\n",
    "    print(\"===========================\\n\")\n",
    "    print(\"Performance Metrics:\")\n",
    "    for metric, value in results[best_model][\"Metrics\"].items():\n",
    "        print(f\"{metric}: {value:.4f}\")\n",
    "\n",
    "    # Step 7: Display Confusion Matrix if prompted\n",
    "    if show_confusion_matrix:\n",
    "        print(\"\\nConfusion Matrix:\")\n",
    "        c_mat = confusion_matrix(y_test, predictions[best_model]) # Used stored predictions\n",
    "        plt.figure(figsize=(8,6))\n",
    "        sns.heatmap(c_mat, annot=True, fmt=\"d\", cmap=\"Blues\", xticklabels=np.unique(y), yticklabels=np.unique(y))\n",
    "        plt.xlabel(\"Predicted\")\n",
    "        plt.ylabel(\"Actual\")\n",
    "        plt.title(f\"Confusion Matrix: {best_model}\")\n",
    "        plt.show()\n",
    "\n",
    "    return results[best_model]"
   ]
  },
  {
   "cell_type": "markdown",
   "metadata": {},
   "source": [
    "## Binary Classification "
   ]
  },
  {
   "cell_type": "markdown",
   "metadata": {},
   "source": [
    "### TF-IDF Features Only\n",
    "\n",
    "With our pipeline ready, let's run a prediction of 'sentiment' using only our TF-IDF features:"
   ]
  },
  {
   "cell_type": "code",
   "execution_count": 25,
   "metadata": {},
   "outputs": [
    {
     "name": "stdout",
     "output_type": "stream",
     "text": [
      "BEST MODEL: Logistic Regression\n",
      "===========================\n",
      "\n",
      "Performance Metrics:\n",
      "Accuracy: 0.8538\n",
      "Precision: 0.8764\n",
      "Recall: 0.9533\n",
      "F1 Score: 0.9132\n",
      "\n",
      "Confusion Matrix:\n"
     ]
    },
    {
     "data": {
      "image/png": "[encoded data removed]",
      "text/plain": [
       "<Figure size 800x600 with 2 Axes>"
      ]
     },
     "metadata": {},
     "output_type": "display_data"
    }
   ],
   "source": [
    "# Using only TF-IDF values for classification\n",
    "bin_class_tfidf = classification(\n",
    "    df=reviews_tfidf, \n",
    "    target=\"sentiment\", \n",
    "    include_tfidf=True, # Include all TF-IDF columns\n",
    "    show_confusion_matrix=True\n",
    ")"
   ]
  },
  {
   "cell_type": "markdown",
   "metadata": {},
   "source": [
    "*Runtime: 1m 3.8s*\n",
    "\n",
    "In this case, the logistic regression performed the best, with around 85.4% accuracy in predicting review sentiment. It looks like most of our accuracy came from correctly identifying reviews with positive sentiment.\n",
    "\n",
    "### Non TF-IDF Features\n",
    "\n",
    "Now, lets try to run a prediction using only `vote`, `verified`, and `product_id` as our features:"
   ]
  },
  {
   "cell_type": "code",
   "execution_count": 26,
   "metadata": {},
   "outputs": [
    {
     "name": "stdout",
     "output_type": "stream",
     "text": [
      "BEST MODEL: Logistic Regression\n",
      "===========================\n",
      "\n",
      "Performance Metrics:\n",
      "Accuracy: 0.8071\n",
      "Precision: 0.8071\n",
      "Recall: 1.0000\n",
      "F1 Score: 0.8933\n"
     ]
    }
   ],
   "source": [
    "# Using 'vote','verified', and 'product_id' features for classification\n",
    "bin_class_three_features = classification(\n",
    "    df=reviews_tfidf,\n",
    "    target=\"sentiment\",\n",
    "    selected_features=['vote','verified','product_id'],\n",
    "    include_tfidf=False\n",
    ")"
   ]
  },
  {
   "cell_type": "markdown",
   "metadata": {},
   "source": [
    "*Runtime: 16.2s*\n",
    "\n",
    "When using only 'vote', 'verified', and 'product_id', our model performance drops to around 80% prediction accuracy - meaning the inclusion of our TF-IDF embeddings is likely crucial to boosting model performance\n",
    "\n",
    "### All Features\n",
    "\n",
    "Next, I'll test out the models using the three features above plus our TF-IDF values:"
   ]
  },
  {
   "cell_type": "code",
   "execution_count": 27,
   "metadata": {},
   "outputs": [
    {
     "name": "stdout",
     "output_type": "stream",
     "text": [
      "BEST MODEL: Logistic Regression\n",
      "===========================\n",
      "\n",
      "Performance Metrics:\n",
      "Accuracy: 0.8547\n",
      "Precision: 0.8756\n",
      "Recall: 0.9558\n",
      "F1 Score: 0.9139\n"
     ]
    }
   ],
   "source": [
    "# Using all features\n",
    "bin_class_all_features = classification(\n",
    "    df=reviews_tfidf,\n",
    "    target=\"sentiment\",\n",
    "    selected_features=['vote','verified','product_id'],\n",
    "    include_tfidf=True\n",
    ")"
   ]
  },
  {
   "cell_type": "markdown",
   "metadata": {},
   "source": [
    "*Runtime: 1m 54.3s*\n",
    "\n",
    "Not much of an improvement compared to our prediction using only TF-IDF. The inclusion of our other features only slightly improved our prediction accuracy. "
   ]
  },
  {
   "cell_type": "markdown",
   "metadata": {},
   "source": [
    "## Multi-Class Prediction\n",
    "\n",
    "Let's move forward now to predicting the rating for each review using our predefined pipeline. The only difference here is that I set the \"target\" parameter to `rating`, which tells our pipline to run multi-class predictions. Here we go!"
   ]
  },
  {
   "cell_type": "markdown",
   "metadata": {},
   "source": [
    "### TF-IDF Features Only"
   ]
  },
  {
   "cell_type": "code",
   "execution_count": 20,
   "metadata": {},
   "outputs": [
    {
     "name": "stdout",
     "output_type": "stream",
     "text": [
      "BEST MODEL: SVM\n",
      "===========================\n",
      "\n",
      "Performance Metrics:\n",
      "Accuracy: 0.5093\n",
      "Precision (Multi): 0.3096\n",
      "Recall (Multi): 0.2678\n",
      "F1 Score (Multi): 0.2692\n",
      "\n",
      "Confusion Matrix:\n"
     ]
    },
    {
     "data": {
      "image/png": "[encoded data removed]",
      "text/plain": [
       "<Figure size 800x600 with 2 Axes>"
      ]
     },
     "metadata": {},
     "output_type": "display_data"
    }
   ],
   "source": [
    "# Using only TF-IDF values for classification\n",
    "mult_class_tfidf = classification(\n",
    "    df=reviews_tfidf, \n",
    "    target=\"rating\", \n",
    "    include_tfidf=True, # Include all TF-IDF columns\n",
    "    show_confusion_matrix=True\n",
    ")"
   ]
  },
  {
   "cell_type": "markdown",
   "metadata": {},
   "source": [
    "*Runtime: 7m 9.5s*\n",
    "\n",
    "Unfortunately, it looks like our multi-class model trained on only TF-IDF features does not perform as well as the binary classifier - with only 50% accuracy in correct rating assignments. When looking at the confusion matrix, it appears that the model did the best at correcly identifying 5-star reviews. This result should not be surprising, given the disproportionately large amount of 5 star reviews in the data. \n",
    "\n",
    "### Non TF-IDF Features\n",
    "\n",
    "For our next iteration, let's train the multi-class model on only the non TF-IDF features to see if that changes anything:"
   ]
  },
  {
   "cell_type": "code",
   "execution_count": 28,
   "metadata": {},
   "outputs": [
    {
     "name": "stdout",
     "output_type": "stream",
     "text": [
      "BEST MODEL: SVM\n",
      "===========================\n",
      "\n",
      "Performance Metrics:\n",
      "Accuracy: 0.6202\n",
      "Precision (Multi): 0.2184\n",
      "Recall (Multi): 0.2029\n",
      "F1 Score (Multi): 0.1732\n",
      "\n",
      "Confusion Matrix:\n"
     ]
    },
    {
     "data": {
      "image/png": "[encoded data removed]",
      "text/plain": [
       "<Figure size 800x600 with 2 Axes>"
      ]
     },
     "metadata": {},
     "output_type": "display_data"
    }
   ],
   "source": [
    "# Predicting rating using only vote, verified, and product_id\n",
    "mult_class_three_features = classification(\n",
    "    df=reviews_tfidf, \n",
    "    target=\"rating\",\n",
    "    selected_features=['vote','verified','product_id'], \n",
    "    include_tfidf=False, \n",
    "    show_confusion_matrix=True\n",
    ")"
   ]
  },
  {
   "cell_type": "markdown",
   "metadata": {},
   "source": [
    "*Runtime: 54.4s*\n",
    "\n",
    "When using only the non TF-IDF features (`product_id`, `vote`, `verified`), our model's performance increases to around 62% accuracy. Still a far cry away from our binary class performance. "
   ]
  },
  {
   "cell_type": "markdown",
   "metadata": {},
   "source": [
    "### All Features\n",
    "\n",
    "Finally, let's try to run a prediction using all of our features:"
   ]
  },
  {
   "cell_type": "code",
   "execution_count": 33,
   "metadata": {},
   "outputs": [
    {
     "name": "stdout",
     "output_type": "stream",
     "text": [
      "BEST MODEL: Naive Bayes\n",
      "===========================\n",
      "\n",
      "Performance Metrics:\n",
      "Accuracy: 0.6485\n",
      "Precision (Multi): 0.4263\n",
      "Recall (Multi): 0.2663\n",
      "F1 Score (Multi): 0.2694\n",
      "\n",
      "Confusion Matrix:\n"
     ]
    },
    {
     "data": {
      "image/png": "[encoded data removed]",
      "text/plain": [
       "<Figure size 800x600 with 2 Axes>"
      ]
     },
     "metadata": {},
     "output_type": "display_data"
    }
   ],
   "source": [
    "# Predicting rating using all features\n",
    "mult_class_all_features = classification(\n",
    "    df=reviews_tfidf, \n",
    "    target=\"rating\",\n",
    "    selected_features=['vote','verified','product_id'], \n",
    "    include_tfidf=True, \n",
    "    show_confusion_matrix=True\n",
    ")"
   ]
  },
  {
   "cell_type": "markdown",
   "metadata": {},
   "source": [
    "*Runtime: *\n",
    "\n",
    "Our full feature model slightly outperforms the other two, with around 65% accuracy. While an improvement, the results still leave more to be desired. In all three of our multi-class predictions, the model achieves most of its accuracy from correctly classifying 5-star ratings. In all other cases, the models consistently fall flat in properly classifying lower star reviews. To try and correct this, I will try the undersampling technique outlined in Magdelano et al.[@Magdelano2024] In this method, we create a new dataframe called `reviews_tfidf_undersampled`, in which the counts of our five review classes are equal (i.e. 20% 1-star, 20% 2-star, etc.) The goal here is to provide our multi-class model with a balanced number of each target class."
   ]
  },
  {
   "cell_type": "markdown",
   "metadata": {},
   "source": [
    "## Multi-Class Prediction with Undersampling\n",
    "\n",
    "Let's first check the counts of each rating in the data:"
   ]
  },
  {
   "cell_type": "code",
   "execution_count": 34,
   "metadata": {},
   "outputs": [
    {
     "data": {
      "text/plain": [
       "rating\n",
       "5    64002\n",
       "4    16802\n",
       "3     7691\n",
       "1     6902\n",
       "2     4603\n",
       "Name: count, dtype: int64"
      ]
     },
     "execution_count": 34,
     "metadata": {},
     "output_type": "execute_result"
    }
   ],
   "source": [
    "reviews_tfidf['rating'].value_counts()"
   ]
  },
  {
   "cell_type": "markdown",
   "metadata": {},
   "source": [
    "It looks like our minimum value is for 1-star ratings, making up only 4603 reviews. With that in mind, let's create a new dataframe `reviews_tfidf_undersampled` where the value count for each rating class is this number."
   ]
  },
  {
   "cell_type": "code",
   "execution_count": 32,
   "metadata": {},
   "outputs": [
    {
     "data": {
      "text/plain": [
       "rating\n",
       "1    4603\n",
       "2    4603\n",
       "3    4603\n",
       "4    4603\n",
       "5    4603\n",
       "Name: count, dtype: int64"
      ]
     },
     "execution_count": 32,
     "metadata": {},
     "output_type": "execute_result"
    }
   ],
   "source": [
    "# Setting minimum count\n",
    "min_count = reviews_tfidf['rating'].value_counts().min()\n",
    "\n",
    "# Create an undersampled data frame\n",
    "reviews_tfidf_undersamlped = (\n",
    "    # Here, we are grouping by 'rating' and randomly sampling 4603 observations from each group\n",
    "    reviews_tfidf.groupby('rating').apply(lambda x: x.sample(n=min_count, random_state=5000)).reset_index(drop=True)\n",
    ")\n",
    "\n",
    "# Printing new counts\n",
    "reviews_tfidf_undersamlped['rating'].value_counts()"
   ]
  },
  {
   "cell_type": "markdown",
   "metadata": {},
   "source": [
    "As a quick check to see if this solves our proble - let's run the full feature model above, but this time we will use our undersampled data set"
   ]
  },
  {
   "cell_type": "markdown",
   "metadata": {},
   "source": [
    "### All Features, Unsampled\n",
    "\n",
    "Running multi-class prediction, using all features and undersampled  data set:"
   ]
  },
  {
   "cell_type": "code",
   "execution_count": 35,
   "metadata": {},
   "outputs": [
    {
     "name": "stdout",
     "output_type": "stream",
     "text": [
      "BEST MODEL: Naive Bayes\n",
      "===========================\n",
      "\n",
      "Performance Metrics:\n",
      "Accuracy: 0.4063\n",
      "Precision (Multi): 0.3975\n",
      "Recall (Multi): 0.4070\n",
      "F1 Score (Multi): 0.3992\n",
      "\n",
      "Confusion Matrix:\n"
     ]
    },
    {
     "data": {
      "image/png": "[encoded data removed]",
      "text/plain": [
       "<Figure size 800x600 with 2 Axes>"
      ]
     },
     "metadata": {},
     "output_type": "display_data"
    }
   ],
   "source": [
    "# Predicting rating using all features\n",
    "mult_class_all_features_undersampled = classification(\n",
    "    df=reviews_tfidf_undersamlped, \n",
    "    target=\"rating\",\n",
    "    selected_features=['vote','verified','product_id'], \n",
    "    include_tfidf=True, \n",
    "    show_confusion_matrix=True\n",
    ")"
   ]
  },
  {
   "cell_type": "markdown",
   "metadata": {},
   "source": [
    "*Runtime: 1m 26.4s*\n",
    "\n",
    "Not the result we were looking for. Like I stated above, in prior models it looked like most of the prediction accuracy came from properly identifying 5 star reviews. However, when we used an undersampled data set, we set the proportion of those reviews equal to all of the others. \n",
    "\n",
    "In other words, I was able to solve the problem of our model overly focusing on the dominant 5-star class, but this came at the expense of overall accuracy (now only 40%). An interesting point to note is that for all cases when we used undersampling, the SVM model performed the best. Post-undersampling however, the Multinomial Naive Bayes model emerged as the best model - likely because its probabilistic approach to class labeling worked better when our distribution of different ratings was equal.\n",
    "\n",
    "On a more positive note, our the confusion matrix from the undersample prediction showed improved performance in predicting the previously underrepresented classes (especially 1-stars), which were previously overshadowed by the majority 5-star class in our old data set. "
   ]
  },
  {
   "cell_type": "code",
   "execution_count": 38,
   "metadata": {},
   "outputs": [
    {
     "data": {
      "text/html": [
       "<div>\n",
       "<style scoped>\n",
       "    .dataframe tbody tr th:only-of-type {\n",
       "        vertical-align: middle;\n",
       "    }\n",
       "\n",
       "    .dataframe tbody tr th {\n",
       "        vertical-align: top;\n",
       "    }\n",
       "\n",
       "    .dataframe thead th {\n",
       "        text-align: right;\n",
       "    }\n",
       "</style>\n",
       "<table border=\"1\" class=\"dataframe\">\n",
       "  <thead>\n",
       "    <tr style=\"text-align: right;\">\n",
       "      <th></th>\n",
       "      <th>product_id</th>\n",
       "      <th>rating</th>\n",
       "      <th>vote</th>\n",
       "      <th>verified</th>\n",
       "      <th>sentiment</th>\n",
       "      <th>text_clean</th>\n",
       "      <th>summary_clean</th>\n",
       "      <th>text</th>\n",
       "      <th>summary</th>\n",
       "      <th>polarity</th>\n",
       "      <th>...</th>\n",
       "      <th>tfidf_490</th>\n",
       "      <th>tfidf_491</th>\n",
       "      <th>tfidf_492</th>\n",
       "      <th>tfidf_493</th>\n",
       "      <th>tfidf_494</th>\n",
       "      <th>tfidf_495</th>\n",
       "      <th>tfidf_496</th>\n",
       "      <th>tfidf_497</th>\n",
       "      <th>tfidf_498</th>\n",
       "      <th>tfidf_499</th>\n",
       "    </tr>\n",
       "  </thead>\n",
       "  <tbody>\n",
       "    <tr>\n",
       "      <th>0</th>\n",
       "      <td>27766</td>\n",
       "      <td>5</td>\n",
       "      <td>1</td>\n",
       "      <td>0</td>\n",
       "      <td>1</td>\n",
       "      <td>youre looking cinema k capabilities budget cam...</td>\n",
       "      <td>filmmakers love camera</td>\n",
       "      <td>If you're looking for Cinema 4K capabilities o...</td>\n",
       "      <td>Filmmakers will love this camera.</td>\n",
       "      <td>0.321675</td>\n",
       "      <td>...</td>\n",
       "      <td>0.0</td>\n",
       "      <td>0.0</td>\n",
       "      <td>0.0</td>\n",
       "      <td>0.0</td>\n",
       "      <td>0.0</td>\n",
       "      <td>0.0</td>\n",
       "      <td>0.0</td>\n",
       "      <td>0.0</td>\n",
       "      <td>0.219799</td>\n",
       "      <td>0.0</td>\n",
       "    </tr>\n",
       "  </tbody>\n",
       "</table>\n",
       "<p>1 rows × 510 columns</p>\n",
       "</div>"
      ],
      "text/plain": [
       "   product_id  rating  vote  verified  sentiment  \\\n",
       "0       27766       5     1         0          1   \n",
       "\n",
       "                                          text_clean           summary_clean  \\\n",
       "0  youre looking cinema k capabilities budget cam...  filmmakers love camera   \n",
       "\n",
       "                                                text  \\\n",
       "0  If you're looking for Cinema 4K capabilities o...   \n",
       "\n",
       "                             summary  polarity  ...  tfidf_490  tfidf_491  \\\n",
       "0  Filmmakers will love this camera.  0.321675  ...        0.0        0.0   \n",
       "\n",
       "   tfidf_492  tfidf_493  tfidf_494  tfidf_495  tfidf_496  tfidf_497  \\\n",
       "0        0.0        0.0        0.0        0.0        0.0        0.0   \n",
       "\n",
       "   tfidf_498  tfidf_499  \n",
       "0   0.219799        0.0  \n",
       "\n",
       "[1 rows x 510 columns]"
      ]
     },
     "execution_count": 38,
     "metadata": {},
     "output_type": "execute_result"
    }
   ],
   "source": [
    "reviews_tfidf.head(1)"
   ]
  },
  {
   "cell_type": "markdown",
   "metadata": {},
   "source": [
    "# Section 3: Regression\n",
    "\n",
    "**Model Selection**\n",
    "\n",
    "**Modeling Pipeline**\n",
    "\n",
    "**Ridge Regression**\n",
    "\n",
    "**Random Forest Regressor**\n"
   ]
  },
  {
   "cell_type": "markdown",
   "metadata": {},
   "source": [
    "## Model Selection\n",
    "\n",
    "### Linear Regression\n",
    "***Predicting Review Polarity***\n",
    "\n",
    "#### Ridge Regression\n",
    "\n",
    "- **Overview**\n",
    "\n",
    "The ridge regression is variant of the traditional [linear regression](https://en.wikipedia.org/wiki/Linear_regression) that is specifically designed to handle cases when features are highly correlated. In traditional linear regressions, the model fits the data using the [least squares](https://en.wikipedia.org/wiki/Least_squares) approach, whereing the resulting best fit line minimizes the amount of noise in the data. The ridge regression works in a similar way, but instead of just minimizing noise, ridge regressions use a form of constrained optimization that takes the traditional least squares error and applies a regularization term $\\lambda$ that works by puninshing larger coefficient values, effectively reducing multicolinearity in the data.[@Ridge]\n",
    "\n",
    "**Linear Regression RSS:** $RSS \\ = \\sum_{i=1}^{n} (y_{i} - \\hat{y_{i}})^2$\n",
    "\n",
    "**Ridge Regression RSS:**[@Ridge] $RSS \\ = \\sum_{i=1}^{n} (y_{i} - \\hat{y_{i}})^2 + \\lambda \\sum_{j=1}^{p} \\beta_{j}^2$\n",
    "\n",
    "- **Model Rationale**\n",
    "\n",
    "In the context of predicting polarity using our data, I elect to use a ridge regression because our TF-IDF matrix contains embeddings from very short and repetitive documents. By that, I mean our collection of Amazon reviews are all very short and have a great deal of frequently repeated terms, which runs the risk of their respective TF-IDF values being highly correlated. Like I said before, ridge regressions work to reduce this multicolinearity.\n",
    "\n",
    "#### Random Forest Regression\n",
    "\n",
    "- **Overview**\n",
    "\n",
    "\n",
    "\n"
   ]
  },
  {
   "cell_type": "markdown",
   "metadata": {},
   "source": [
    "# Summary\n",
    "\n",
    "## Classification \n",
    "\n",
    "### Binary Classification \n",
    "\n",
    "- Logistic regression outperformed Random Forest in all modeling scenarios\n",
    "- Highest prediction accuracy (85.47%) came from using all features\n",
    "\n",
    "### Multi-class Classification\n",
    "\n",
    "- MNB model had highest overall accuracy in predicting rating score (64.85%) - when all features were included from full data set\n",
    "- Most of the accuracy from our multi-class predictions came from properly identifying the dominant review class (5)\n",
    "- When using undersampling to correct for unbalanced classes, accuracy plummeted to 40%\n",
    "- Undersampling did however allow the models to perform better in predicting previously underrepresented classes\n",
    "\n",
    "### Challenges\n",
    "\n",
    "- **Confusion Matrix Redundancy**\n",
    "\n",
    "Old confusion matrix code had me running the best model again to extract predictions, so I instead opted to use a `predictions` dictionary, that stores the results for each model allowing me to reference them down the line when building the confusion matrix (without running the best model twice).\n",
    "\n",
    "- **SVM Execution Time**\n",
    "\n",
    "When running multi-class classification, my initial run-times were over 3 hours each. I was able to hone in on the problem being SVM, and its difficulty with handling larger datasets or when it tries to use non-linear transformations (like the radius basis function).\n",
    "\n",
    "**Config 1:** ```SVC(kernel=\"rbf\", probability=True) #with Unscaled features```\n",
    "- In this configuration, I used the radial basis function (RBF) kernel for transformations\n",
    "- *Runtime: > 3 hours*\n",
    "\n",
    "**Config 2:** ```SVC(kernel=\"linear\", probability=True) #with Unscaled features```\n",
    "- For the second config, I changed the kernel to \"linear\", for [faster](https://scikit-learn.org/1.5/modules/svm.html) performance\n",
    "- *Runtime: > 3 hours*\n",
    "\n",
    "**Config 3:** ```SVC(kernel=\"linear\", probability=True) #with MinMaxScaled features```\n",
    "- Here, I tried scaling the features using sklearn's [MinMaxScaler](https://scikit-learn.org/1.5/modules/generated/sklearn.preprocessing.MinMaxScaler.html) to reduce complexity of TF-IDF values\n",
    "- *Runtime: > 3 hours*\n",
    "\n",
    "**Config 5:** ``` SVC(kernel='rbf',C=0.5,gamma ='auto',tol=0.01,shrinking=False,max_iter=1000,cache_size=1000,probability=False) #with MinMaxScaled features```\n",
    "- At this point, I consulted OpenAI's ChatGPT-4o model to help create the fastest SVM configuration.[@gpt4o_SVM]\n"
   ]
  },
  {
   "cell_type": "markdown",
   "metadata": {},
   "source": []
  }
 ],
 "metadata": {
  "kernelspec": {
   "display_name": "base",
   "language": "python",
   "name": "python3"
  },
  "language_info": {
   "codemirror_mode": {
    "name": "ipython",
    "version": 3
   },
   "file_extension": ".py",
   "mimetype": "text/x-python",
   "name": "python",
   "nbconvert_exporter": "python",
   "pygments_lexer": "ipython3",
   "version": "3.11.5"
  }
 },
 "nbformat": 4,
 "nbformat_minor": 2
}
